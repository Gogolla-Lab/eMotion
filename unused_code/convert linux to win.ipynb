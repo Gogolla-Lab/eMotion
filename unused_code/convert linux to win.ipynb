{
 "cells": [
  {
   "cell_type": "code",
   "execution_count": 1,
   "metadata": {},
   "outputs": [],
   "source": [
    "import numpy as np\n",
    "import pandas as pd\n",
    "import os\n",
    "\n",
    "project_path = \"//NAS7/datastore_gogolla_group$/Onur Serce/project/\"\n",
    "labeled_data = os.path.join(project_path, 'labeled-data')"
   ]
  },
  {
   "cell_type": "code",
   "execution_count": null,
   "metadata": {},
   "outputs": [],
   "source": [
    "for folder in os.listdir(labeled_data):\n",
    "    folder_path = os.path.join(labeled_data, folder)\n",
    "    if os.path.isdir(folder_path):\n",
    "        for file in os.listdir(folder_path):\n",
    "            if file == 'CollectedData_alja_onur.csv':\n",
    "                file_path = os.path.join(folder_path, file)\n",
    "                \n",
    "                print('\\n', '\\n', '\\n')\n",
    "                print('editing file: ' ,file_path)\n",
    "                df = pd.read_csv(file_path, header=[0,1,2])\n",
    "                print('columns before edit: ', df.columns)\n",
    "                columns = [('scorer', 'bodyparts', 'coords'),\n",
    "                 ('alja_onur', 'left_ear', 'x'),\n",
    "                 ('alja_onur', 'left_ear', 'y'),\n",
    "                 ('alja_onur', 'right_ear', 'x'),\n",
    "                 ('alja_onur', 'right_ear', 'y'),\n",
    "                 ('alja_onur', 'snout', 'x'),\n",
    "                 ('alja_onur', 'snout', 'y'),\n",
    "                 ('alja_onur', 'center', 'x'),\n",
    "                 ('alja_onur', 'center', 'y'),\n",
    "                 ('alja_onur', 'left_side', 'x'),\n",
    "                 ('alja_onur', 'left_side', 'y'),\n",
    "                 ('alja_onur', 'right_side', 'x'),\n",
    "                 ('alja_onur', 'right_side', 'y'),\n",
    "                 ('alja_onur', 'tail_base', 'x'),\n",
    "                 ('alja_onur', 'tail_base', 'y'),\n",
    "                 ('alja_onur', 'tail_mid', 'x'),\n",
    "                 ('alja_onur', 'tail_mid', 'y'),\n",
    "                 ('alja_onur', 'tail_tip', 'x'),\n",
    "                 ('alja_onur', 'tail_tip', 'y'),\n",
    "                 ('alja_onur', 'paw_f_right', 'x'),\n",
    "                 ('alja_onur', 'paw_f_right', 'y'),\n",
    "                 ('alja_onur', 'paw_f_left', 'x'),\n",
    "                 ('alja_onur', 'paw_f_left', 'y'),\n",
    "                 ('alja_onur', 'paw_h_right', 'x'),\n",
    "                 ('alja_onur', 'paw_h_right', 'y'),\n",
    "                 ('alja_onur', 'paw_h_left', 'x'),\n",
    "                 ('alja_onur', 'paw_h_left', 'y')]\n",
    "                df = df[columns]\n",
    "                print('columns after edit: ', df.columns)\n",
    "                df.to_csv(file_path, index=False)\n",
    "                #definitely save the file with a different name at first to try if the code works as expected!\n",
    "\n",
    "print('all done!')"
   ]
  }
 ],
 "metadata": {
  "kernelspec": {
   "display_name": "Python 3",
   "language": "python",
   "name": "python3"
  },
  "language_info": {
   "codemirror_mode": {
    "name": "ipython",
    "version": 3
   },
   "file_extension": ".py",
   "mimetype": "text/x-python",
   "name": "python",
   "nbconvert_exporter": "python",
   "pygments_lexer": "ipython3",
   "version": "3.7.7"
  }
 },
 "nbformat": 4,
 "nbformat_minor": 4
}
