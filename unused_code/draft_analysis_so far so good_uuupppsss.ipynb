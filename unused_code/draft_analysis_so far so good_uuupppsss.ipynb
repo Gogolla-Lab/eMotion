{
 "cells": [
  {
   "cell_type": "code",
   "execution_count": null,
   "metadata": {},
   "outputs": [],
   "source": [
    "import os\n",
    "import shutil\n",
    "import numpy as np\n",
    "import pandas as pd\n",
    "import matplotlib.pyplot as plt\n",
    "import matplotlib\n",
    "\n",
    "matplotlib.rcParams['pdf.fonttype'] = 42"
   ]
  },
  {
   "cell_type": "code",
   "execution_count": null,
   "metadata": {},
   "outputs": [],
   "source": [
    "source_folder = '/Users/onurserce/Desktop/serce/'\n",
    "export_folder = '/Users/onurserce/Desktop/serce/Figures/'\n",
    "dict_csvs = {}\n",
    "    \n",
    "for file in os.listdir(source_folder):\n",
    "    if file.endswith(\".csv\"):\n",
    "        dict_csvs[file] = pd.read_csv(file)"
   ]
  },
  {
   "cell_type": "code",
   "execution_count": null,
   "metadata": {
    "scrolled": false
   },
   "outputs": [],
   "source": [
    "print(len(dict_csvs), \"csv files at\", \"(\", source_folder, \")\" )\n",
    "\n",
    "for i in sorted(dict_csvs):\n",
    "    print(i)"
   ]
  },
  {
   "cell_type": "code",
   "execution_count": null,
   "metadata": {},
   "outputs": [],
   "source": [
    "googlenet = {}\n",
    "inception = {}\n",
    "resnet34 = {}\n",
    "resnext50 = {}\n",
    "resnext101 = {}\n",
    "sted = {}\n",
    "conf = {}\n",
    "accuracy = {}\n",
    "losses = {}\n",
    "blur = {}\n",
    "other = {}\n",
    "dataset = {}\n",
    "\n",
    "for file in os.listdir(source_folder):\n",
    "    if file.endswith(\".csv\"):\n",
    "        if \"googlenet\" in file:\n",
    "            googlenet[file] = pd.read_csv(file)\n",
    "        elif \"inception\" in file:\n",
    "            inception[file] = pd.read_csv(file)\n",
    "        elif \"resnet34\" in file:\n",
    "            resnet34[file] = pd.read_csv(file)\n",
    "        elif \"resnext50\" in file:\n",
    "            resnext50[file] = pd.read_csv(file)\n",
    "        elif \"resnext101\" in file:\n",
    "            resnext101[file] = pd.read_csv(file)\n",
    "        elif \"dataset\" in file:\n",
    "            dataset[file] = pd.read_csv(file)\n",
    "        else:\n",
    "            other[file] = pd.read_csv(file)\n",
    "            print(\"Yo! There's a file appended into the 'other' dict\\n\",\n",
    "                  \"file:\", file, \"\\n\")\n",
    "\n",
    "            \n",
    "for file in os.listdir(source_folder):\n",
    "    if file.endswith(\".csv\"):\n",
    "        if \"dataset\" not in file:\n",
    "            if \"conf\" in file:\n",
    "                conf[file] = pd.read_csv(file)\n",
    "            elif \"sted\" in file:\n",
    "                sted[file] = pd.read_csv(file)\n",
    "            else:\n",
    "                sted[file] = pd.read_csv(file)\n",
    "                print(\"Watch-out, there's a file appended into the 'sted' dict with an else clause!\\n\",\n",
    "                      \"file:\", file, \"\\n\")\n",
    "            \n",
    "            \n",
    "for file in os.listdir(source_folder):\n",
    "    if file.endswith(\".csv\"):\n",
    "        if \"accuracy\" in file:\n",
    "            accuracy[file] = pd.read_csv(file)\n",
    "        elif \"losses\" in file:\n",
    "            losses[file] = pd.read_csv(file)\n",
    "        else:\n",
    "            if \"dataset\" not in file:\n",
    "                print(\"There's a file that appears to be not appropriately named!\\n\",\n",
    "                      \"file:\", file, \"\\n\")\n",
    "            \n",
    "for file in os.listdir(source_folder):\n",
    "    if file.endswith(\".csv\"):\n",
    "        if \"blur\" in file:\n",
    "            if \"accuracy\" in file:\n",
    "                blur[file] = pd.read_csv(file)\n",
    "        if file == \"accuracy_googlenet.csv\":\n",
    "            blur[file] = pd.read_csv(file)\n",
    "        if file == \"accuracy_resnext50.csv\":\n",
    "            blur[file] = pd.read_csv(file)"
   ]
  },
  {
   "cell_type": "code",
   "execution_count": null,
   "metadata": {},
   "outputs": [],
   "source": [
    "plt.figure(913, figsize=(10,10))\n",
    "\n",
    "plt.subplot(1,3,1)\n",
    "plt.bar(x=['m1','m2','m3','wt'], height=[2291, 3048, 2518, 2452])\n",
    "plt.title('Dataset 1')\n",
    "plt.xlabel('Class', fontsize = 12)\n",
    "plt.ylabel('Sample size', fontsize = 12)\n",
    "\n",
    "plt.subplot(1,3,2)\n",
    "plt.bar(x=['m1', 'wt'], height=[11264, 8683])\n",
    "plt.title('Dataset 2')\n",
    "plt.xlabel('Class', fontsize = 12)\n",
    "plt.ylabel('Sample size', fontsize = 12)\n",
    "\n",
    "plt.subplot(1,3,3)\n",
    "plt.bar(x=['a215','a216','a217','a218'], height=[4821, 5460, 5870, 4762])\n",
    "plt.title('Dataset 3')\n",
    "plt.xlabel('Class', fontsize = 12)\n",
    "plt.ylabel('Sample size', fontsize = 12)\n",
    "\n",
    "plt.suptitle('Sample size by classes', fontsize = 16)\n",
    "plt.tight_layout(pad=3)\n",
    "\n",
    "plt.savefig(export_folder + 'plot_samplesize.pdf')"
   ]
  },
  {
   "cell_type": "code",
   "execution_count": null,
   "metadata": {},
   "outputs": [],
   "source": [
    "#sorted(googlenet)\n",
    "#sorted(inception)\n",
    "#sorted(resnet34)\n",
    "#sorted(resnext50)\n",
    "#sorted(resnext101)\n",
    "#sorted(sted)\n",
    "#sorted(conf)\n",
    "#sorted(accuracy)\n",
    "#sorted(losses)\n",
    "#sorted(other)\n",
    "#sorted(blur)\n",
    "\n",
    "#[(b, \"Title\") for b in sorted(blur)]"
   ]
  },
  {
   "cell_type": "code",
   "execution_count": null,
   "metadata": {},
   "outputs": [],
   "source": [
    "blur10_losses = {}\n",
    "blur10_accuracy = {}\n",
    "first_dataset_sted_losses = {}\n",
    "first_dataset_sted_accuracy = {}\n",
    "\n",
    "for i in dict_csvs:\n",
    "    if (\"blur10\" in i and \"accuracy\" not in i):\n",
    "        blur10_losses[i] = dict_csvs[i]\n",
    "    elif (\"blur10\" in i and \"accuracy\" in i):\n",
    "        blur10_accuracy[i] = dict_csvs[i]\n",
    "        \n",
    "for i in sted:\n",
    "    if (\"conf\" not in i and \"sted\" not in i and \"accuracy\" not in i):\n",
    "        first_dataset_sted_losses[i] = sted[i]\n",
    "    elif (\"conf\" not in i and \"sted\" not in i and \"accuracy\" in i):\n",
    "        first_dataset_sted_accuracy[i] = sted[i]"
   ]
  },
  {
   "cell_type": "code",
   "execution_count": null,
   "metadata": {
    "scrolled": false
   },
   "outputs": [],
   "source": [
    "plt.figure(1, figsize=(12,12))\n",
    "\n",
    "plt.subplot(2,1,1)\n",
    "for i in first_dataset_sted_losses:\n",
    "    plt.plot(first_dataset_sted_losses[i].iloc[:,3], label=i)\n",
    "\n",
    "for i in blur10_losses:\n",
    "    plt.plot(blur10_losses[i].iloc[:,3], label=i)\n",
    "\n",
    "\n",
    "plot1_labels = (\"ResNeXt101\", \"ResNeXt50\", \"Inception\", \"GoogleNet\", \"ResNet34\",\n",
    "                   \"ResNeXt101 blur=10\", \"ResNet34 blur=10\", \"Inception blur=10\", \"GoogleNet blur=10\", \n",
    "                   \"ResNeXt50 blur=10\")\n",
    "#current_handles, current_labels = plt.gca().get_legend_handles_labels() not working\n",
    "plt.legend(labels=(plot1_labels))\n",
    "\n",
    "plt.xlabel('Epoch*2')\n",
    "plt.ylabel('Loss')\n",
    "plt.title('Comparison of loss among different networks')\n",
    "plt.grid(True)\n",
    "\n",
    "#plt.show()\n",
    "plt.savefig(export_folder+'plot_losses.pdf')"
   ]
  },
  {
   "cell_type": "code",
   "execution_count": null,
   "metadata": {},
   "outputs": [],
   "source": [
    "\"\"\"\n",
    "for i in first_dataset_sted_accuracy:\n",
    "    print(i.split(sep=\"_\")[1].split(sep=\".\")[0])\n",
    "    print(first_dataset_sted_accuracy[i].iloc[3,1:3])\n",
    "\"\"\""
   ]
  },
  {
   "cell_type": "code",
   "execution_count": null,
   "metadata": {},
   "outputs": [],
   "source": [
    "del(first_dataset_sted_accuracy[\"accuracy_googlenet_modelsaver.csv\"])\n",
    "#first_dataset_sted_accuracy.items()\n",
    "\n",
    "#make sure that deleting this item will not create problem in the future code!!!"
   ]
  },
  {
   "cell_type": "code",
   "execution_count": null,
   "metadata": {},
   "outputs": [],
   "source": [
    "first_dataset_sted_accuracy['ResNeXt101'] = first_dataset_sted_accuracy.pop('accuracy_resnext101.csv')\n",
    "first_dataset_sted_accuracy['Inception'] = first_dataset_sted_accuracy.pop('accuracy_inception.csv')\n",
    "first_dataset_sted_accuracy['ResNext50'] = first_dataset_sted_accuracy.pop('accuracy_resnext50.csv')\n",
    "first_dataset_sted_accuracy['ResNet34'] = first_dataset_sted_accuracy.pop('accuracy_resnet34.csv')\n",
    "first_dataset_sted_accuracy['GoogleNet'] = first_dataset_sted_accuracy.pop('accuracy_googlenet.csv')"
   ]
  },
  {
   "cell_type": "code",
   "execution_count": null,
   "metadata": {},
   "outputs": [],
   "source": [
    "for i in first_dataset_sted_accuracy:\n",
    "    print(i)"
   ]
  },
  {
   "cell_type": "code",
   "execution_count": null,
   "metadata": {},
   "outputs": [],
   "source": [
    "plt.figure(2, figsize=(12,12))\n",
    "\n",
    "plt.subplot(2,2,1)\n",
    "#for i in blur10_accuracy:\n",
    "#    plt.bar(x=(i.split(sep=\"_\")[1]+\"*\"), height=(blur10_accuracy[i].iloc[0,2:3]))\n",
    "#labels_aa = ['a', 'b' , 'c', 'd', 'e']\n",
    "for i in first_dataset_sted_accuracy:\n",
    "    plt.bar(x=(i), height=(first_dataset_sted_accuracy[i].iloc[0,2:3]))\n",
    "    plt.xticks(rotation=\"45\") \n",
    "    \n",
    "plt.ylim(0,100)\n",
    "plt.grid(True)\n",
    "plt.title(\"m1\")\n",
    "plt.ylabel('% Accuracy', fontsize=12)\n",
    "\n",
    "plt.subplot(2,2,2)\n",
    "#for i in blur10_accuracy:\n",
    "#    plt.bar(x=(i.split(sep=\"_\")[1]+\"*\"), height=(blur10_accuracy[i].iloc[1,2:3]))\n",
    "\n",
    "for i in first_dataset_sted_accuracy:\n",
    "    plt.bar(x=(i), height=(first_dataset_sted_accuracy[i].iloc[1,2:3]))\n",
    "    plt.xticks(rotation=\"45\") \n",
    "    \n",
    "plt.ylim(0,100)\n",
    "plt.grid(True)\n",
    "plt.title(\"m2\")\n",
    "plt.ylabel('% Accuracy', fontsize=12)\n",
    "\n",
    "plt.subplot(2,2,3)\n",
    "#for i in blur10_accuracy:\n",
    "#    plt.bar(x=(i.split(sep=\"_\")[1]+\"*\"), height=(blur10_accuracy[i].iloc[2,2:3]))\n",
    "\n",
    "for i in first_dataset_sted_accuracy:\n",
    "    plt.bar(x=(i), height=(first_dataset_sted_accuracy[i].iloc[2,2:3]))\n",
    "    plt.xticks(rotation=\"45\") \n",
    "    \n",
    "plt.ylim(0,100)\n",
    "plt.grid(True)\n",
    "plt.title(\"m3\")\n",
    "plt.ylabel('% Accuracy', fontsize=12)\n",
    "\n",
    "plt.subplot(2,2,4)\n",
    "#for i in blur10_accuracy:\n",
    "#    plt.bar(x=(i.split(sep=\"_\")[1]+\"*\"), height=(blur10_accuracy[i].iloc[3,2:3]))\n",
    "\n",
    "for i in first_dataset_sted_accuracy:\n",
    "    plt.bar(x=(i), height=(first_dataset_sted_accuracy[i].iloc[3,2:3]))\n",
    "    plt.xticks(rotation=\"45\") \n",
    "    \n",
    "plt.ylim(0,100)\n",
    "plt.grid(True)\n",
    "plt.title(\"wt\")\n",
    "plt.ylabel('% Accuracy', fontsize=12)\n",
    "plt.suptitle(\"Accuracy of models on classes\", fontsize=16, y=1.00)\n",
    "plt.tight_layout()\n",
    "#plt.show()\n",
    "plt.savefig(export_folder+'plot_models_class_accuracy.pdf')"
   ]
  },
  {
   "cell_type": "code",
   "execution_count": null,
   "metadata": {},
   "outputs": [],
   "source": [
    "dataset1_sted = pd.read_csv(\"sir160_163_128_dataset_std.csv\")\n",
    "#dataset1_sted\n",
    "dataset1_sted = {\"m1\":1818, \"m2\":2451, \"m3\":2019, \"wt\":1960}\n",
    "\n",
    "\n",
    "\n",
    "plotdata = []\n",
    "\n",
    "for i in blur10_accuracy:\n",
    "    for e in range(4):\n",
    "        plotdata.append([i, blur10_accuracy[i].iloc[e,:].iloc[1],\n",
    "                         float((blur10_accuracy[i].iloc[e,:].iloc[2])*\n",
    "                               (dataset1_sted[(blur10_accuracy[i].iloc[e,:].iloc[1])]))])\n",
    "\n",
    "for i in first_dataset_sted_accuracy:\n",
    "    for e in range(4):\n",
    "        plotdata.append([i, first_dataset_sted_accuracy[i].iloc[e,:].iloc[1],\n",
    "                         float((first_dataset_sted_accuracy[i].iloc[e,:].iloc[2])*\n",
    "                               (dataset1_sted[(first_dataset_sted_accuracy[i].iloc[e,:].iloc[1])]))])\n",
    "\n",
    "#plotdata\n",
    "\n",
    "plotdata2 = []\n",
    "m1 = 0\n",
    "m2 = 0\n",
    "m3 = 0\n",
    "wt = 0\n",
    "\n",
    "for i in range(len(plotdata)):\n",
    "    if plotdata[i][1] == \"m1\":\n",
    "        m1 = plotdata[i][2]\n",
    "        m2 = plotdata[i+1][2]\n",
    "        m3 = plotdata[i+2][2]\n",
    "        wt = plotdata[i+3][2]\n",
    "        mean = (m1 + m2 + m3 + wt)/(dataset1_sted[\"m1\"] + dataset1_sted[\"m2\"] +\n",
    "                                    dataset1_sted[\"m3\"] + dataset1_sted[\"wt\"])\n",
    "        plotdata2.append([plotdata[i][0], mean])\n",
    "        \n",
    "plotdata2 = pd.DataFrame(plotdata2)\n",
    "plotdata2 = plotdata2.iloc[5:10,:]\n",
    "plotdata2.sort_values(by=1, inplace=True, ascending=True)"
   ]
  },
  {
   "cell_type": "code",
   "execution_count": null,
   "metadata": {},
   "outputs": [],
   "source": [
    "plotdata2[0]"
   ]
  },
  {
   "cell_type": "code",
   "execution_count": null,
   "metadata": {
    "scrolled": false
   },
   "outputs": [],
   "source": [
    "plt.figure(3, figsize=(8,8))\n",
    "labels_a = ['GoogleNet', 'ResNeXt50', 'Inception', 'ResNext101', 'ResNet34']\n",
    "labels_a.reverse()\n",
    "plt.bar(x=labels_a, height=plotdata2[1], width=0.6)\n",
    "\n",
    "plt.grid(True)\n",
    "plt.ylabel('% Accuracy', fontsize=12)\n",
    "plt.xlabel('Model', fontsize=12)\n",
    "plt.xticks(rotation=45)\n",
    "plt.suptitle('Overall accuracy of the models', fontsize=16, y=1)\n",
    "plt.tight_layout(pad=3)\n",
    "#plt.show()\n",
    "plt.savefig(export_folder+'plot_models_overall_accuracy.pdf')"
   ]
  },
  {
   "cell_type": "code",
   "execution_count": null,
   "metadata": {},
   "outputs": [],
   "source": []
  },
  {
   "cell_type": "code",
   "execution_count": null,
   "metadata": {},
   "outputs": [],
   "source": []
  },
  {
   "cell_type": "code",
   "execution_count": null,
   "metadata": {
    "scrolled": true
   },
   "outputs": [],
   "source": []
  },
  {
   "cell_type": "code",
   "execution_count": null,
   "metadata": {},
   "outputs": [],
   "source": [
    "blurplotdata = []\n",
    "\n",
    "for i in blur:\n",
    "    for e in range(4):\n",
    "        blurplotdata.append([i, blur[i].iloc[e,:].iloc[1],\n",
    "                         float((blur[i].iloc[e,:].iloc[2])*\n",
    "                               (dataset1_sted[(blur[i].iloc[e,:].iloc[1])]))])"
   ]
  },
  {
   "cell_type": "code",
   "execution_count": null,
   "metadata": {},
   "outputs": [],
   "source": []
  },
  {
   "cell_type": "code",
   "execution_count": null,
   "metadata": {
    "scrolled": true
   },
   "outputs": [],
   "source": [
    "blurplotdata2 = []\n",
    "m1 = 0\n",
    "m2 = 0\n",
    "m3 = 0\n",
    "wt = 0\n",
    "\n",
    "for i in range(len(blurplotdata)):\n",
    "    if blurplotdata[i][1] == \"m1\":\n",
    "        m1 = blurplotdata[i][2]\n",
    "        m2 = blurplotdata[i+1][2]\n",
    "        m3 = blurplotdata[i+2][2]\n",
    "        wt = blurplotdata[i+3][2]\n",
    "        mean = (m1 + m2 + m3 + wt)/(dataset1_sted[\"m1\"] + dataset1_sted[\"m2\"] +\n",
    "                                    dataset1_sted[\"m3\"] + dataset1_sted[\"wt\"])\n",
    "        blurplotdata2.append([blurplotdata[i][0], mean])\n",
    "        \n",
    "l_blurplotdata = blurplotdata2.copy()        \n",
    "blurplotdata2 = pd.DataFrame(blurplotdata2)\n",
    "blurplotdata2"
   ]
  },
  {
   "cell_type": "code",
   "execution_count": null,
   "metadata": {},
   "outputs": [],
   "source": [
    "import re\n",
    "p = '.*?blur([0-9]+)\\.csv'\n",
    "#re.match()\n",
    "\n",
    "blurplotdata2['blur'] = blurplotdata2.loc[:,0].apply(lambda r : 0 if not re.match(p, r) else int(re.match(p, r).groups()[0]))\n",
    "blurplotdata2 = blurplotdata2.sort_values('blur')\n"
   ]
  },
  {
   "cell_type": "code",
   "execution_count": null,
   "metadata": {},
   "outputs": [],
   "source": [
    "plt.figure(4, figsize=(12,12))\n",
    "\n",
    "labels_b = ['GoogleNet', 'ResNeXt50', 'GoogleNet Blur=2', 'ResNeXt50 Blur=2', 'ResNet34 Blur=2', 'Inception Blur=2',\n",
    "            'ResNet34 Blur=4', 'Inception Blur=4', 'ResNeXt Blur=4', 'GoogleNet Blur=4', 'ResNet34 Blur=6',\n",
    "           'Inception Blur=6', 'ResNeXt Blur=6', 'GoogleNet Blur=6', 'GoogleNet Blur=8', 'ResNet34 Blur=8',\n",
    "           'ResNeXt50 Blur=8', 'Inception Blur=8', 'ResNet Blur=10', 'GoogleNet Blur=10', 'Inception Blur=10',\n",
    "           'ResNeXt50 Blur=10', 'ResNeXt101 Blur=10']\n",
    "\n",
    "plt.barh(y=labels_b, width=blurplotdata2[1])\n",
    "\n",
    "\n",
    "\n",
    "plt.grid(True)\n",
    "plt.suptitle('Model performances with increasing blur', fontsize=16, y=1)\n",
    "plt.xlabel('% Accuracy', fontsize=12)\n",
    "plt.ylabel('Model - Blur amount', rotation=90, fontsize=12)\n",
    "plt.tight_layout(pad=3)\n",
    "#plt.show()\n",
    "plt.savefig(export_folder+'plot_models_blur_overall_accuracy.pdf')"
   ]
  },
  {
   "cell_type": "code",
   "execution_count": null,
   "metadata": {},
   "outputs": [],
   "source": []
  },
  {
   "cell_type": "code",
   "execution_count": null,
   "metadata": {},
   "outputs": [],
   "source": []
  },
  {
   "cell_type": "code",
   "execution_count": null,
   "metadata": {},
   "outputs": [],
   "source": [
    "googlenet_blur = []\n",
    "\n",
    "for i in l_blurplotdata:\n",
    "    if \"googlenet\" in i[0]:\n",
    "        googlenet_blur.append(i)\n",
    "        \n",
    "googlenet_blur = pd.DataFrame(googlenet_blur)\n",
    "\n",
    "p = '.*?blur([0-9]+)\\.csv'\n",
    "#re.match()\n",
    "\n",
    "googlenet_blur['blur'] = googlenet_blur.loc[:,0].apply(lambda r : 0 if not re.match(p, r) else int(re.match(p, r).groups()[0]))\n",
    "googlenet_blur = googlenet_blur.sort_values('blur')\n",
    "\n",
    "googlenet_blur\n",
    "count = 0\n",
    "for i in googlenet_blur.values:\n",
    "    i[0] = count\n",
    "    count += 2\n",
    "\n",
    "googlenet_x_labels= np.arange(0, 12, 2)\n",
    "\n",
    "plt.figure(5, figsize=(10,10))\n",
    "plt.bar(x=googlenet_blur[0], height=googlenet_blur[1])\n",
    "\n",
    "plt.grid(True)\n",
    "plt.xticks(labels=googlenet_x_labels, ticks=np.arange(6))\n",
    "plt.ylabel('% Accuracy', fontsize=12)\n",
    "plt.xlabel('Blur factor', fontsize=12)\n",
    "plt.suptitle('GoogleNet overall accuracy on STED Dataset 1', fontsize=16)\n",
    "plt.tight_layout(pad=4)\n",
    "\n",
    "#plt.show()\n",
    "plt.savefig(export_folder+'plot_googlenet_blur_overall_accuracy.pdf')"
   ]
  },
  {
   "cell_type": "code",
   "execution_count": null,
   "metadata": {},
   "outputs": [],
   "source": [
    "myrange = []\n",
    "for i in range(0,12,2):\n",
    "    myrange.append(i)"
   ]
  },
  {
   "cell_type": "code",
   "execution_count": null,
   "metadata": {
    "scrolled": false
   },
   "outputs": [],
   "source": [
    "resnext_blur = []\n",
    "\n",
    "for i in l_blurplotdata:\n",
    "    if \"resnext50\" in i[0]:\n",
    "        resnext_blur.append(i)\n",
    "        \n",
    "resnext_blur = pd.DataFrame(resnext_blur)\n",
    "\n",
    "p = '.*?blur([0-9]+)\\.csv'\n",
    "#re.match()\n",
    "\n",
    "resnext_blur['blur'] = resnext_blur.loc[:,0].apply(lambda r : 0 if not re.match(p, r) else int(re.match(p, r).groups()[0]))\n",
    "resnext_blur = resnext_blur.sort_values('blur')\n",
    "\n",
    "#################\n",
    "\n",
    "plt.figure(6, figsize=(10,10))\n",
    "plt.bar(x=myrange, height=resnext_blur[1], width=1.5)\n",
    "\n",
    "plt.grid(True)\n",
    "plt.suptitle('ResNeXt50 overall accuracy on STED Dataset 1', fontsize=16)\n",
    "plt.xlabel('Blur factor', fontsize=12)\n",
    "plt.ylabel('% Accuracy', fontsize=12)\n",
    "plt.xticks(fontsize=12)\n",
    "plt.yticks(fontsize=12)\n",
    "plt.tight_layout(pad=4)\n",
    "\n",
    "#plt.show()\n",
    "plt.savefig(export_folder+'plot_resnext50_blur_overall_accuracy.pdf')"
   ]
  },
  {
   "cell_type": "markdown",
   "metadata": {},
   "source": [
    "# ResNeXt50 accuracy by classes among blur datasets"
   ]
  },
  {
   "cell_type": "code",
   "execution_count": null,
   "metadata": {},
   "outputs": [],
   "source": [
    "blur_resnext50_dict = {}\n",
    "\n",
    "for file in os.listdir(source_folder):\n",
    "    if file.endswith(\".csv\"):\n",
    "        if \"accuracy\" in file and \"resnext50\" in file and \"sir178\" not in file and \"sir215\" not in file and \"conf\" not in file:\n",
    "            blur_resnext50_dict[file] = pd.read_csv(file)"
   ]
  },
  {
   "cell_type": "code",
   "execution_count": null,
   "metadata": {},
   "outputs": [],
   "source": [
    "p = '.*?blur([0-9]+)\\.csv'\n",
    "\n",
    "\n",
    "def keyfun(r):\n",
    "    return 0 if not re.match(p, r) else int(re.match(p, r).groups()[0])\n",
    "                                            \n",
    "for i in sorted(blur_resnext50_dict, key=keyfun):\n",
    "    print(i)"
   ]
  },
  {
   "cell_type": "code",
   "execution_count": null,
   "metadata": {},
   "outputs": [],
   "source": []
  },
  {
   "cell_type": "code",
   "execution_count": null,
   "metadata": {},
   "outputs": [],
   "source": []
  },
  {
   "cell_type": "markdown",
   "metadata": {},
   "source": [
    "# Hebelehubele"
   ]
  },
  {
   "cell_type": "code",
   "execution_count": null,
   "metadata": {
    "scrolled": false
   },
   "outputs": [],
   "source": [
    "plt.figure(7, figsize=(12,12))\n",
    "\n",
    "#labels_c = ['Blur=0','Blur=2','Blur=4','Blur=6','Blur=8','Blur=10']\n",
    "\n",
    "plt.subplot(2,2,1)\n",
    "for i in sorted(blur_resnext50_dict, key=keyfun):\n",
    "    plt.bar(x=(i.split(sep=\"accuracy_\")[1]), height=(blur_resnext50_dict[i].iloc[0,2:3])) \n",
    "    \n",
    "plt.ylim(0,100)\n",
    "plt.grid(True)\n",
    "plt.title(\"m1\")\n",
    "plt.ylabel('% Accuracy', fontsize=12)\n",
    "plt.xticks(labels=googlenet_x_labels, ticks=np.arange(6))\n",
    "plt.xlabel('Blur factor')\n",
    "#plt.legend(loc=\"upper left\")\n",
    "\n",
    "plt.subplot(2,2,2)\n",
    "for i in sorted(blur_resnext50_dict, key=keyfun):\n",
    "    plt.bar(x=(i.split(sep=\"accuracy_\")[1]), height=(blur_resnext50_dict[i].iloc[1,2:3]))\n",
    "    \n",
    "plt.ylim(0,100)\n",
    "plt.grid(True)\n",
    "plt.title(\"m2\")\n",
    "plt.xticks(labels=googlenet_x_labels, ticks=np.arange(6))\n",
    "plt.xlabel('Blur factor')\n",
    "plt.ylabel('% Accuracy', fontsize=12)\n",
    "\n",
    "plt.subplot(2,2,3)\n",
    "for i in sorted(blur_resnext50_dict, key=keyfun):\n",
    "    plt.bar(x=(i.split(sep=\"accuracy_\")[1]), height=(blur_resnext50_dict[i].iloc[2,2:3]))\n",
    "    \n",
    "plt.ylim(0,100)\n",
    "plt.grid(True)\n",
    "plt.title(\"m3\")\n",
    "plt.xticks(labels=googlenet_x_labels, ticks=np.arange(6))\n",
    "plt.xlabel('Blur factor')\n",
    "plt.ylabel('% Accuracy', fontsize=12)\n",
    "\n",
    "plt.subplot(2,2,4)\n",
    "for i in sorted(blur_resnext50_dict, key=keyfun):\n",
    "    plt.bar(x=(i.split(sep=\"accuracy_\")[1]), height=(blur_resnext50_dict[i].iloc[3,2:3]))\n",
    "    \n",
    "plt.ylim(0,100)\n",
    "plt.grid(True)\n",
    "plt.title(\"wt\")\n",
    "plt.xticks(labels=googlenet_x_labels, ticks=np.arange(6))\n",
    "plt.xlabel('Blur factor')\n",
    "plt.ylabel('% Accuracy', fontsize=12)\n",
    "\n",
    "\n",
    "plt.suptitle(\"ResNeXt50 accuracy by classes\", fontsize = 16, y=1.00)\n",
    "plt.tight_layout()\n",
    "#plt.show()\n",
    "plt.savefig(export_folder+'plot_resnext50_blur_class_accuracy.pdf')\n"
   ]
  },
  {
   "cell_type": "code",
   "execution_count": null,
   "metadata": {},
   "outputs": [],
   "source": [
    "rn50_plot = pd.read_csv('accuracy_resnext50.csv')"
   ]
  },
  {
   "cell_type": "code",
   "execution_count": null,
   "metadata": {},
   "outputs": [],
   "source": [
    "plt.figure(25, figsize=(10,10))\n",
    "\n",
    "plt.bar(x=rn50_plot['type'], height=rn50_plot['accuracy'])\n",
    "plt.grid('True')\n",
    "plt.title('ResNeXt50 class accuracy on STED Dataset 1', fontsize=16)\n",
    "plt.ylabel('% Accuracy', fontsize=12)\n",
    "plt.xlabel('Cell type', fontsize=12)\n",
    "plt.tight_layout()\n",
    "\n",
    "plt.savefig(export_folder+'plot_resnext50_class_accuracy.pdf')"
   ]
  },
  {
   "cell_type": "markdown",
   "metadata": {},
   "source": [
    "# ResNeXt50 accuracy by sted datasets"
   ]
  },
  {
   "cell_type": "code",
   "execution_count": null,
   "metadata": {},
   "outputs": [],
   "source": [
    "\"\"\"\n",
    "dataset1_sted = {\"m1\":1818, \"m2\":2451, \"m3\":2019, \"wt\":1960}\n",
    "dataset2_sted = {\"m1\":9020, \"wt\":6938}\n",
    "dataset3_sted = {\"a215\": 3867, \"a216\":4346, \"a217\": 4710, \"a218\": 3808}\n",
    "\"\"\""
   ]
  },
  {
   "cell_type": "code",
   "execution_count": null,
   "metadata": {},
   "outputs": [],
   "source": [
    "ds_160_resnext50 = pd.read_csv(\"accuracy_resnext50.csv\")\n",
    "ds_178_resnext50 = pd.read_csv(\"accuracy_resnext50_sir178-181_128_sted.csv\")\n",
    "ds_215_resnext50 = pd.read_csv(\"accuracy_resnext50_sir215-218_128_sted.csv\")"
   ]
  },
  {
   "cell_type": "code",
   "execution_count": null,
   "metadata": {},
   "outputs": [],
   "source": [
    "ds_160_resnext50"
   ]
  },
  {
   "cell_type": "code",
   "execution_count": null,
   "metadata": {},
   "outputs": [],
   "source": []
  },
  {
   "cell_type": "code",
   "execution_count": null,
   "metadata": {},
   "outputs": [],
   "source": []
  },
  {
   "cell_type": "code",
   "execution_count": null,
   "metadata": {},
   "outputs": [],
   "source": []
  },
  {
   "cell_type": "code",
   "execution_count": null,
   "metadata": {},
   "outputs": [],
   "source": []
  },
  {
   "cell_type": "code",
   "execution_count": null,
   "metadata": {},
   "outputs": [],
   "source": [
    "plt.figure(8, figsize=(10,10))\n",
    "\n",
    "plt.subplot(1,3,1)\n",
    "plt.bar(x=ds_160_resnext50[\"type\"], height=ds_160_resnext50[\"accuracy\"])\n",
    "plt.ylabel('% Accuracy', fontsize=12)\n",
    "plt.xlabel('Cell type', fontsize=12)\n",
    "    \n",
    "plt.ylim(0,100)\n",
    "plt.grid(True)\n",
    "plt.title(\"Dataset 1\")\n",
    "#plt.legend(loc=\"upper left\")\n",
    "\n",
    "plt.subplot(1,3,2)\n",
    "plt.bar(x=ds_178_resnext50[\"type\"], height=ds_178_resnext50[\"accuracy\"])\n",
    "\n",
    "plt.xlabel('Cell type', fontsize=12)\n",
    "    \n",
    "plt.ylim(0,100)\n",
    "plt.grid(True)\n",
    "plt.title(\"Dataset 2\")\n",
    "\n",
    "plt.subplot(1,3,3)\n",
    "plt.bar(x=ds_215_resnext50[\"type\"], height=ds_215_resnext50[\"accuracy\"])\n",
    "\n",
    "plt.xlabel('Cell type', fontsize=12)\n",
    "    \n",
    "plt.ylim(0,100)\n",
    "plt.grid(True)\n",
    "plt.title(\"Dataset 3\")\n",
    "\n",
    "plt.suptitle('ResNeXt50 accuracy by STED datasets', fontsize=16, y=1)\n",
    "plt.tight_layout(pad=2)\n",
    "#plt.show()\n",
    "plt.savefig(export_folder+'plot_resnext50_accuracy_sted_datasets.pdf')"
   ]
  },
  {
   "cell_type": "code",
   "execution_count": null,
   "metadata": {},
   "outputs": [],
   "source": [
    "plt.figure(79, figsize=(10,10))\n",
    "plt.bar(x=ds_160_resnext50[\"type\"], height=ds_160_resnext50[\"accuracy\"])\n",
    "plt.ylabel('% Accuracy', fontsize=12)\n",
    "plt.xlabel('Cell type', fontsize=12)\n",
    "    \n",
    "plt.ylim(0,100)\n",
    "plt.title(\"ResNeXt50 class accuracy\", fontsize=16)\n",
    "\n",
    "plt.tight_layout(pad=2)\n",
    "#plt.show()\n",
    "plt.savefig(export_folder+'plot_resnext50_accuracy.pdf')"
   ]
  },
  {
   "cell_type": "code",
   "execution_count": null,
   "metadata": {},
   "outputs": [],
   "source": []
  },
  {
   "cell_type": "code",
   "execution_count": null,
   "metadata": {},
   "outputs": [],
   "source": [
    "ds_160_resnext50_conf = pd.read_csv(\"accuracy_resnext50_conf.csv\")\n",
    "ds_215_resnext50_conf = pd.read_csv(\"accuracy_resnext50_sir215-218_128_conf.csv\")\n",
    "ds_160_resnext50_sted = pd.read_csv(\"accuracy_resnext50.csv\")\n",
    "ds_215_resnext50_sted = pd.read_csv(\"accuracy_resnext50_sir215-218_128_sted.csv\")"
   ]
  },
  {
   "cell_type": "code",
   "execution_count": null,
   "metadata": {
    "scrolled": false
   },
   "outputs": [],
   "source": [
    "plt.figure(9, figsize=(12,12))\n",
    "\n",
    "plt.subplot(2,2,1)\n",
    "plt.bar(x=ds_160_resnext50[\"type\"], height=ds_160_resnext50[\"accuracy\"])\n",
    "#plt.bar(x=ds_160_resnext50_conf[\"type\"], height=ds_160_resnext50_conf[\"accuracy\"])\n",
    "plt.ylabel('% Accuracy', fontsize=12)\n",
    "plt.xlabel('Cell type', fontsize=12)\n",
    "    \n",
    "plt.ylim(0,100)\n",
    "plt.grid(True)\n",
    "plt.title(\"STED Dataset 1\")\n",
    "\n",
    "plt.subplot(2,2,2)\n",
    "plt.bar(x=ds_160_resnext50_conf[\"type\"], height=ds_160_resnext50_conf[\"accuracy\"])\n",
    "plt.ylabel('% Accuracy', fontsize=12)\n",
    "plt.xlabel('Cell type', fontsize=12)\n",
    "    \n",
    "plt.ylim(0,100)\n",
    "plt.grid(True)\n",
    "plt.title(\"CONF Dataset 1\")\n",
    "\n",
    "plt.subplot(2,2,3)\n",
    "plt.bar(x=ds_215_resnext50[\"type\"], height=ds_215_resnext50[\"accuracy\"])\n",
    "plt.ylabel('% Accuracy', fontsize=12)\n",
    "plt.xlabel('Cell type', fontsize=12)\n",
    "    \n",
    "plt.ylim(0,100)\n",
    "plt.grid(True)\n",
    "plt.title(\"STED Dataset 3\")\n",
    "\n",
    "plt.subplot(2,2,4)\n",
    "plt.bar(x=ds_215_resnext50_conf[\"type\"], height=ds_215_resnext50_conf[\"accuracy\"])\n",
    "plt.ylabel('% Accuracy', fontsize=12)\n",
    "plt.xlabel('Cell type', fontsize=12)\n",
    "    \n",
    "plt.ylim(0,100)\n",
    "plt.grid(True)\n",
    "plt.title(\"CONF Dataset 3\")\n",
    "\n",
    "plt.suptitle('ResNeXt50 accuracy on classes, STED vs CONF datasets', fontsize=16)\n",
    "plt.tight_layout(pad=4)\n",
    "#plt.show()\n",
    "plt.savefig(export_folder+'plot_resnext50_accuracy_by_class_STED_CONF.pdf')"
   ]
  },
  {
   "cell_type": "code",
   "execution_count": null,
   "metadata": {},
   "outputs": [],
   "source": []
  },
  {
   "cell_type": "markdown",
   "metadata": {},
   "source": [
    "## Different approach"
   ]
  },
  {
   "cell_type": "code",
   "execution_count": null,
   "metadata": {},
   "outputs": [],
   "source": [
    "ds_160_resnext50_sted.tolist()"
   ]
  },
  {
   "cell_type": "code",
   "execution_count": null,
   "metadata": {},
   "outputs": [],
   "source": [
    "categorical_1 = [\"STED\", \"CONF\"]\n",
    "colors        = ['green', 'red']\n",
    "#numerical = [[6, 9, 2, 7],\n",
    "#             [6, 7, 3, 8],\n",
    "#             [9, 11, 13, 15],\n",
    "#             [3, 5, 9, 6]]\n",
    "numerical = [ds_160_resnext50_sted[\"accuracy\"], ds_160_resnext50_conf[\"accuracy\"]]\n",
    "number_groups = len(categorical_1) \n",
    "bin_width = 1.0/(number_groups+1)\n",
    "fig, ax = plt.subplots(figsize=(6,6))\n",
    "for i in range(number_groups):\n",
    "    ax.bar(x=np.arange(len(categorical_1)) + i*bin_width, \n",
    "           height=numerical[i],\n",
    "           width=bin_width,\n",
    "           color=colors[i],\n",
    "           align='center')\n",
    "ax.set_xticks(np.arange(len(categorical_1)) + number_groups/(2*(number_groups+1)))\n",
    "# number_groups/(2*(number_groups+1)): offset of xticklabel\n",
    "ax.set_xticklabels(categorical_1)\n",
    "ax.legend(categorical_1, facecolor='w')\n",
    "plt.show()"
   ]
  },
  {
   "cell_type": "markdown",
   "metadata": {},
   "source": [
    "# ResNeXt50 sted vs conf accuracy"
   ]
  },
  {
   "cell_type": "code",
   "execution_count": null,
   "metadata": {},
   "outputs": [],
   "source": []
  },
  {
   "cell_type": "code",
   "execution_count": null,
   "metadata": {},
   "outputs": [],
   "source": [
    "dataset1 = {\"m1\":1818, \"m2\":2451, \"m3\":2019, \"wt\":1960}\n",
    "dataset3 = {\"a215\":3867, \"a216\":4346, \"a217\":4710, \"a218\":3808}"
   ]
  },
  {
   "cell_type": "code",
   "execution_count": null,
   "metadata": {},
   "outputs": [],
   "source": []
  },
  {
   "cell_type": "code",
   "execution_count": null,
   "metadata": {},
   "outputs": [],
   "source": []
  },
  {
   "cell_type": "code",
   "execution_count": null,
   "metadata": {},
   "outputs": [],
   "source": []
  },
  {
   "cell_type": "code",
   "execution_count": null,
   "metadata": {},
   "outputs": [],
   "source": [
    "plotdata = []\n",
    "\n",
    "for i in range(len(ds_160_resnext50_sted)):\n",
    "    plotdata.append([\"ds_160_rn50_sted\", ds_160_resnext50_sted.iloc[i,:].iloc[1],\n",
    "                     float((ds_160_resnext50_sted.iloc[i,:].iloc[2])*\n",
    "                           (dataset1[(ds_160_resnext50_sted.iloc[i,:].iloc[1])])), \"sted_ds_1\"])\n",
    "    \n",
    "for i in range(len(ds_160_resnext50_conf)):\n",
    "    plotdata.append([\"ds_160_rn50_conf\", ds_160_resnext50_conf.iloc[i,:].iloc[1],\n",
    "                     float((ds_160_resnext50_conf.iloc[i,:].iloc[2])*\n",
    "                           (dataset1[(ds_160_resnext50_sted.iloc[i,:].iloc[1])])), \"conf_ds_1\"])\n",
    "\n",
    "for i in range(len(ds_215_resnext50_sted)):\n",
    "    plotdata.append([\"ds_215_rn50_sted\", ds_215_resnext50_sted.iloc[i,:].iloc[1],\n",
    "                     float((ds_215_resnext50_sted.iloc[i,:].iloc[2])*\n",
    "                           (dataset3[(ds_215_resnext50_sted.iloc[i,:].iloc[1])])), \"sted_ds_3\"])\n",
    "\n",
    "for i in range(len(ds_215_resnext50_conf)):\n",
    "    plotdata.append([\"ds_215_rn50_conf\", ds_215_resnext50_conf.iloc[i,:].iloc[1],\n",
    "                     float((ds_215_resnext50_conf.iloc[i,:].iloc[2])*\n",
    "                           (dataset3[(ds_215_resnext50_conf.iloc[i,:].iloc[1])])), \"conf_ds_3\"])    \n",
    "    \n",
    "    \n",
    "for i in plotdata:\n",
    "    print(i)\n",
    "\n",
    "\n",
    "#plotdata\n",
    "\n",
    "plotdata2 = []\n",
    "m1 = 0\n",
    "m2 = 0\n",
    "m3 = 0\n",
    "wt = 0\n",
    "a215 = 0\n",
    "a216 = 0\n",
    "a217 = 0\n",
    "a218 = 0\n",
    "\n",
    "for i in range(len(plotdata)):\n",
    "    if plotdata[i][1] == \"m1\":\n",
    "        m1 = plotdata[i][2]\n",
    "        m2 = plotdata[i+1][2]\n",
    "        m3 = plotdata[i+2][2]\n",
    "        wt = plotdata[i+3][2]\n",
    "        mean = (m1 + m2 + m3 + wt)/(dataset1[\"m1\"] + dataset1[\"m2\"] +\n",
    "                                    dataset1[\"m3\"] + dataset1[\"wt\"])\n",
    "        plotdata2.append([plotdata[i][0], mean])\n",
    "    elif plotdata[i][1] == \"a215\":\n",
    "        a215 = plotdata[i][2]\n",
    "        a216 = plotdata[i+1][2]\n",
    "        a217 = plotdata[i+2][2]\n",
    "        a218 = plotdata[i+3][2]\n",
    "        mean = (a215 + a216 + a217 + a218)/(dataset3[\"a215\"] + dataset3[\"a216\"] +\n",
    "                                    dataset3[\"a217\"] + dataset3[\"a218\"])\n",
    "        plotdata2.append([plotdata[i][0], mean])\n",
    "        \n",
    "plotdata2_df = pd.DataFrame(plotdata2)\n",
    "#plotdata2 = plotdata2.iloc[5:10,:]\n",
    "plotdata2_df.sort_values(by=1, inplace=True, ascending=False)\n",
    "plotdata2_df"
   ]
  },
  {
   "cell_type": "code",
   "execution_count": null,
   "metadata": {},
   "outputs": [],
   "source": [
    "plt.figure(10, figsize=(8,8))\n",
    "plt.bar(x=(\"DS1-Sted\", \"DS1-Conf\", \"DS3-Sted\", \"DS3-Conf\"), height=plotdata2_df[1], width=0.6)\n",
    "\n",
    "plt.grid(True)\n",
    "plt.title(\"ResNeXt50 Sted vs Confocal accuracy\", fontsize=16)\n",
    "plt.xlabel('Dataset-Setup', fontsize=12)\n",
    "plt.ylabel('% Accuracy', fontsize=12)\n",
    "#plt.show()\n",
    "plt.savefig(export_folder+'plot_resnext50_sted_vs_conf_ds1_ds2.pdf')"
   ]
  },
  {
   "cell_type": "code",
   "execution_count": null,
   "metadata": {},
   "outputs": [],
   "source": []
  },
  {
   "cell_type": "code",
   "execution_count": null,
   "metadata": {},
   "outputs": [],
   "source": []
  },
  {
   "cell_type": "code",
   "execution_count": null,
   "metadata": {},
   "outputs": [],
   "source": []
  },
  {
   "cell_type": "code",
   "execution_count": null,
   "metadata": {},
   "outputs": [],
   "source": []
  },
  {
   "cell_type": "code",
   "execution_count": null,
   "metadata": {
    "scrolled": true
   },
   "outputs": [],
   "source": []
  },
  {
   "cell_type": "code",
   "execution_count": null,
   "metadata": {},
   "outputs": [],
   "source": []
  },
  {
   "cell_type": "code",
   "execution_count": null,
   "metadata": {},
   "outputs": [],
   "source": []
  },
  {
   "cell_type": "code",
   "execution_count": null,
   "metadata": {},
   "outputs": [],
   "source": []
  }
 ],
 "metadata": {
  "kernelspec": {
   "display_name": "Python 3",
   "language": "python",
   "name": "python3"
  },
  "language_info": {
   "codemirror_mode": {
    "name": "ipython",
    "version": 3
   },
   "file_extension": ".py",
   "mimetype": "text/x-python",
   "name": "python",
   "nbconvert_exporter": "python",
   "pygments_lexer": "ipython3",
   "version": "3.7.4"
  }
 },
 "nbformat": 4,
 "nbformat_minor": 2
}
