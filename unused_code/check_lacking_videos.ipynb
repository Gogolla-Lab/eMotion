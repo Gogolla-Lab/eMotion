{
 "cells": [
  {
   "cell_type": "code",
   "execution_count": 14,
   "metadata": {},
   "outputs": [],
   "source": [
    "import os\n",
    "import numpy as np\n",
    "import pandas as pd"
   ]
  },
  {
   "cell_type": "code",
   "execution_count": 15,
   "metadata": {},
   "outputs": [],
   "source": [
    "all_videos = r\"J:\\Alja Podgornik\\Multimaze arena\\Cohort 1_June 2020\\all_videos\"\n",
    "csv_renamings = os.path.join(all_videos, 'renaming.csv')"
   ]
  },
  {
   "cell_type": "code",
   "execution_count": 16,
   "metadata": {},
   "outputs": [
    {
     "data": {
      "text/html": [
       "<div>\n",
       "<style scoped>\n",
       "    .dataframe tbody tr th:only-of-type {\n",
       "        vertical-align: middle;\n",
       "    }\n",
       "\n",
       "    .dataframe tbody tr th {\n",
       "        vertical-align: top;\n",
       "    }\n",
       "\n",
       "    .dataframe thead th {\n",
       "        text-align: right;\n",
       "    }\n",
       "</style>\n",
       "<table border=\"1\" class=\"dataframe\">\n",
       "  <thead>\n",
       "    <tr style=\"text-align: right;\">\n",
       "      <th></th>\n",
       "      <th>original</th>\n",
       "      <th>reformatted</th>\n",
       "    </tr>\n",
       "  </thead>\n",
       "  <tbody>\n",
       "    <tr>\n",
       "      <th>0</th>\n",
       "      <td>ChR1.1_Day5_processed</td>\n",
       "      <td>chr1_day5_1</td>\n",
       "    </tr>\n",
       "    <tr>\n",
       "      <th>1</th>\n",
       "      <td>ChR1.2_Day5_processed</td>\n",
       "      <td>chr1_day5_2</td>\n",
       "    </tr>\n",
       "    <tr>\n",
       "      <th>2</th>\n",
       "      <td>ChR10_Day1_processed</td>\n",
       "      <td>chr10_day1</td>\n",
       "    </tr>\n",
       "    <tr>\n",
       "      <th>3</th>\n",
       "      <td>ChR10_Day2_processed</td>\n",
       "      <td>chr10_day2</td>\n",
       "    </tr>\n",
       "    <tr>\n",
       "      <th>4</th>\n",
       "      <td>ChR10_Day3_processed</td>\n",
       "      <td>chr10_day3</td>\n",
       "    </tr>\n",
       "    <tr>\n",
       "      <th>...</th>\n",
       "      <td>...</td>\n",
       "      <td>...</td>\n",
       "    </tr>\n",
       "    <tr>\n",
       "      <th>150</th>\n",
       "      <td>HR9_Day1_processed</td>\n",
       "      <td>hr9_day1</td>\n",
       "    </tr>\n",
       "    <tr>\n",
       "      <th>151</th>\n",
       "      <td>HR9_Day2_processed</td>\n",
       "      <td>hr9_day2</td>\n",
       "    </tr>\n",
       "    <tr>\n",
       "      <th>152</th>\n",
       "      <td>HR9_Day3_processed</td>\n",
       "      <td>hr9_day3</td>\n",
       "    </tr>\n",
       "    <tr>\n",
       "      <th>153</th>\n",
       "      <td>HR9_Day5_processed</td>\n",
       "      <td>hr9_day5</td>\n",
       "    </tr>\n",
       "    <tr>\n",
       "      <th>154</th>\n",
       "      <td>HR9_Day_processed</td>\n",
       "      <td>hr9_day4</td>\n",
       "    </tr>\n",
       "  </tbody>\n",
       "</table>\n",
       "<p>154 rows × 2 columns</p>\n",
       "</div>"
      ],
      "text/plain": [
       "                  original  reformatted\n",
       "0    ChR1.1_Day5_processed  chr1_day5_1\n",
       "1    ChR1.2_Day5_processed  chr1_day5_2\n",
       "2     ChR10_Day1_processed   chr10_day1\n",
       "3     ChR10_Day2_processed   chr10_day2\n",
       "4     ChR10_Day3_processed   chr10_day3\n",
       "..                     ...          ...\n",
       "150     HR9_Day1_processed     hr9_day1\n",
       "151     HR9_Day2_processed     hr9_day2\n",
       "152     HR9_Day3_processed     hr9_day3\n",
       "153     HR9_Day5_processed     hr9_day5\n",
       "154      HR9_Day_processed     hr9_day4\n",
       "\n",
       "[154 rows x 2 columns]"
      ]
     },
     "execution_count": 16,
     "metadata": {},
     "output_type": "execute_result"
    }
   ],
   "source": [
    "renamings = pd.read_csv(csv_renamings, index_col=0)\n",
    "renamings"
   ]
  },
  {
   "cell_type": "code",
   "execution_count": 17,
   "metadata": {},
   "outputs": [
    {
     "data": {
      "text/plain": [
       "154"
      ]
     },
     "execution_count": 17,
     "metadata": {},
     "output_type": "execute_result"
    }
   ],
   "source": [
    "videos = []\n",
    "for v in os.listdir(all_videos):\n",
    "    if v.endswith('.mp4'):\n",
    "        videos.append(v[:-4])\n",
    "len(videos)"
   ]
  },
  {
   "cell_type": "code",
   "execution_count": 18,
   "metadata": {},
   "outputs": [],
   "source": [
    "# Check if the all renaming.csv videos are actually in the folder\n",
    "for original in renamings['original']:\n",
    "    videoname = original[:-10]\n",
    "    if videoname not in videos:\n",
    "        if videoname+'4' not in videos:\n",
    "            print(videoname, 'not found!')"
   ]
  },
  {
   "cell_type": "code",
   "execution_count": 19,
   "metadata": {},
   "outputs": [],
   "source": [
    "process_csv = os.path.join(all_videos, 'process.csv')\n",
    "process = pd.read_csv(process_csv, index_col=0)"
   ]
  },
  {
   "cell_type": "code",
   "execution_count": 20,
   "metadata": {},
   "outputs": [],
   "source": [
    "# Check if all process.csv videos are actually in the folder\n",
    "for e in process.index:\n",
    "    if e[:-4] not in videos:\n",
    "        print(e, 'is not in', all_videos)"
   ]
  },
  {
   "cell_type": "code",
   "execution_count": null,
   "metadata": {},
   "outputs": [],
   "source": []
  },
  {
   "cell_type": "code",
   "execution_count": null,
   "metadata": {},
   "outputs": [],
   "source": []
  },
  {
   "cell_type": "code",
   "execution_count": null,
   "metadata": {},
   "outputs": [],
   "source": []
  },
  {
   "cell_type": "code",
   "execution_count": null,
   "metadata": {},
   "outputs": [],
   "source": []
  },
  {
   "cell_type": "code",
   "execution_count": null,
   "metadata": {},
   "outputs": [],
   "source": []
  },
  {
   "cell_type": "code",
   "execution_count": null,
   "metadata": {},
   "outputs": [],
   "source": []
  },
  {
   "cell_type": "code",
   "execution_count": null,
   "metadata": {},
   "outputs": [],
   "source": []
  },
  {
   "cell_type": "code",
   "execution_count": null,
   "metadata": {},
   "outputs": [],
   "source": []
  }
 ],
 "metadata": {
  "kernelspec": {
   "display_name": "PyCharm (behaviour-switching)",
   "language": "python",
   "name": "pycharm-dd0c2ef1"
  },
  "language_info": {
   "codemirror_mode": {
    "name": "ipython",
    "version": 3
   },
   "file_extension": ".py",
   "mimetype": "text/x-python",
   "name": "python",
   "nbconvert_exporter": "python",
   "pygments_lexer": "ipython3",
   "version": "3.7.7"
  }
 },
 "nbformat": 4,
 "nbformat_minor": 4
}
