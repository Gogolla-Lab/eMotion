{
 "cells": [
  {
   "cell_type": "code",
   "execution_count": 3,
   "metadata": {},
   "outputs": [],
   "source": [
    "import numpy as np\n",
    "import pandas as pd\n",
    "import matplotlib.pyplot as plt\n",
    "import imageio as io\n",
    "import os\n",
    "%matplotlib inline"
   ]
  },
  {
   "cell_type": "code",
   "execution_count": 4,
   "metadata": {},
   "outputs": [
    {
     "name": "stdout",
     "output_type": "stream",
     "text": [
      "0  -  ChR2_1_Day1.mp4\n",
      "1  -  ChR3_Day1.mp4\n",
      "2  -  Ctrl1_Day1.mp4\n",
      "3  -  Ctrl2_1_Day1.mp4\n",
      "4  -  Ctrl2_2_Day1.mp4\n",
      "5  -  Ctrl3_Day1.mp4\n",
      "6  -  Ctrl4_Day1.mp4\n",
      "7  -  HR1_Day1.mp4\n",
      "8  -  HR2_Day1.mp4\n",
      "9  -  HR3_Day1.mp4\n"
     ]
    }
   ],
   "source": [
    "video_folder = 'J:/Onur Serce/Preprocessed videos/Day1/to_be_cut'\n",
    "counter = 0\n",
    "for v in os.listdir(video_folder):\n",
    "    print(counter, \" - \", v)\n",
    "    counter += 1"
   ]
  },
  {
   "cell_type": "code",
   "execution_count": 21,
   "metadata": {},
   "outputs": [],
   "source": [
    "import subprocess\n",
    "\n",
    "def get_length(filename):\n",
    "    result = subprocess.run([\"ffprobe\", \"-v\", \"error\", \"-show_entries\",\n",
    "                             \"format=duration\", \"-of\",\n",
    "                             \"default=noprint_wrappers=1:nokey=1\", filename],\n",
    "        stdout=subprocess.PIPE,\n",
    "        stderr=subprocess.STDOUT)\n",
    "    return float(result.stdout)"
   ]
  },
  {
   "cell_type": "code",
   "execution_count": 22,
   "metadata": {},
   "outputs": [
    {
     "data": {
      "text/plain": [
       "267.934"
      ]
     },
     "execution_count": 22,
     "metadata": {},
     "output_type": "execute_result"
    }
   ],
   "source": [
    "get_length(video_folder+\"/ChR2_1_Day1.mp4\")"
   ]
  },
  {
   "cell_type": "code",
   "execution_count": 7,
   "metadata": {},
   "outputs": [
    {
     "name": "stdout",
     "output_type": "stream",
     "text": [
      "['ChR2_1_Day1.mp4', 'ChR3_Day1.mp4', 'Ctrl1_Day1.mp4', 'Ctrl2_1_Day1.mp4', 'Ctrl2_2_Day1.mp4', 'Ctrl3_Day1.mp4', 'Ctrl4_Day1.mp4', 'HR1_Day1.mp4', 'HR2_Day1.mp4', 'HR3_Day1.mp4']\n",
      "[267.934, 3654.134, 3698.467, 1031.434, 2033.837, 3637.367, 3632.234, 3605.734, 3836.1, 3655.534]\n"
     ]
    }
   ],
   "source": [
    "videos = []\n",
    "lengths = []\n",
    "\n",
    "for v in os.listdir(video_folder):\n",
    "    videos.append(v)\n",
    "    lengths.append(get_length(os.path.join(video_folder, v)))\n",
    "\n",
    "print(videos)    \n",
    "print(lengths)"
   ]
  },
  {
   "cell_type": "code",
   "execution_count": 8,
   "metadata": {},
   "outputs": [],
   "source": [
    "df = pd.DataFrame(index=videos, data=lengths, columns=['length(s)'])"
   ]
  },
  {
   "cell_type": "code",
   "execution_count": 9,
   "metadata": {},
   "outputs": [],
   "source": [
    "df.to_csv('lengths.csv')"
   ]
  },
  {
   "cell_type": "code",
   "execution_count": null,
   "metadata": {},
   "outputs": [],
   "source": []
  }
 ],
 "metadata": {
  "kernelspec": {
   "display_name": "Python 3",
   "language": "python",
   "name": "python3"
  },
  "language_info": {
   "codemirror_mode": {
    "name": "ipython",
    "version": 3
   },
   "file_extension": ".py",
   "mimetype": "text/x-python",
   "name": "python",
   "nbconvert_exporter": "python",
   "pygments_lexer": "ipython3",
   "version": "3.7.7"
  }
 },
 "nbformat": 4,
 "nbformat_minor": 4
}
