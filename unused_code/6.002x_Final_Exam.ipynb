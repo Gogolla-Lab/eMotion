{
 "cells": [
  {
   "cell_type": "code",
   "execution_count": 1,
   "metadata": {},
   "outputs": [],
   "source": [
    "import random, pylab\n",
    "\n",
    "# You are given this function\n",
    "def getMeanAndStd(X):\n",
    "    mean = sum(X)/float(len(X))\n",
    "    tot = 0.0\n",
    "    for x in X:\n",
    "        tot += (x - mean)**2\n",
    "    std = (tot/len(X))**0.5\n",
    "    return mean, std\n",
    "\n",
    "# You are given this class\n",
    "class Die(object):\n",
    "    def __init__(self, valList):\n",
    "        \"\"\" valList is not empty \"\"\"\n",
    "        self.possibleVals = valList[:]\n",
    "    def roll(self):\n",
    "        return random.choice(self.possibleVals)"
   ]
  },
  {
   "cell_type": "code",
   "execution_count": 13,
   "metadata": {},
   "outputs": [],
   "source": [
    "# Implement this -- Coding Part 1 of 2\n",
    "def makeHistogram(values, numBins, xLabel, yLabel, title=None):\n",
    "    \"\"\"\n",
    "      - values, a sequence of numbers\n",
    "      - numBins, a positive int\n",
    "      - xLabel, yLabel, title, are strings\n",
    "      - Produces a histogram of values with numBins bins and the indicated labels\n",
    "        for the x and y axis\n",
    "      - If title is provided by caller, puts that title on the figure and otherwise\n",
    "        does not title the figure\n",
    "    \"\"\"\n",
    "    pylab.hist(values, numBins)\n",
    "    pylab.xlabel(xLabel)\n",
    "    pylab.ylabel(yLabel)\n",
    "    if title != None:\n",
    "        pylab.title(title)\n",
    "    pylab.show()"
   ]
  },
  {
   "cell_type": "code",
   "execution_count": null,
   "metadata": {},
   "outputs": [],
   "source": [
    "# Implement this -- Coding Part 2 of 2\n",
    "def getAverage(die, numRolls, numTrials):\n",
    "    \"\"\"\n",
    "      - die, a Die\n",
    "      - numRolls, numTrials, are positive ints\n",
    "      - Calculates the expected mean value of the longest run of a number\n",
    "        over numTrials runs of numRolls rolls.\n",
    "      - Calls makeHistogram to produce a histogram of the longest runs for all\n",
    "        the trials. There should be 10 bins in the histogram\n",
    "      - Choose appropriate labels for the x and y axes.\n",
    "      - Returns the mean calculated\n",
    "    \"\"\"\n",
    "    # TODO"
   ]
  },
  {
   "cell_type": "code",
   "execution_count": null,
   "metadata": {},
   "outputs": [],
   "source": [
    "# One test case\n",
    "print(getAverage(Die([1,2,3,4,5,6,6,6,7]), 500, 10000))"
   ]
  },
  {
   "cell_type": "code",
   "execution_count": null,
   "metadata": {},
   "outputs": [],
   "source": []
  },
  {
   "cell_type": "code",
   "execution_count": null,
   "metadata": {},
   "outputs": [],
   "source": []
  },
  {
   "cell_type": "code",
   "execution_count": null,
   "metadata": {},
   "outputs": [],
   "source": []
  }
 ],
 "metadata": {
  "kernelspec": {
   "display_name": "Python 3",
   "language": "python",
   "name": "python3"
  },
  "language_info": {
   "codemirror_mode": {
    "name": "ipython",
    "version": 3
   },
   "file_extension": ".py",
   "mimetype": "text/x-python",
   "name": "python",
   "nbconvert_exporter": "python",
   "pygments_lexer": "ipython3",
   "version": "3.7.7"
  }
 },
 "nbformat": 4,
 "nbformat_minor": 4
}
