{
 "cells": [
  {
   "cell_type": "code",
   "execution_count": 4,
   "metadata": {},
   "outputs": [],
   "source": [
    "import numpy as np\n",
    "import pandas as pd\n",
    "import os"
   ]
  },
  {
   "cell_type": "code",
   "execution_count": 56,
   "metadata": {},
   "outputs": [
    {
     "name": "stdout",
     "output_type": "stream",
     "text": [
      "C:\\Users\\serce\n"
     ]
    }
   ],
   "source": [
    "%cd ~\n",
    "labeled_data = \"J:/Onur Serce/server_mirror/project/labeled-data\""
   ]
  },
  {
   "cell_type": "code",
   "execution_count": 60,
   "metadata": {},
   "outputs": [
    {
     "name": "stdout",
     "output_type": "stream",
     "text": [
      "['Control_10_Day_1_cropped', 'Control_10_Day_2_cropped', 'Control_3_Day_2_cropped', 'Control_4_Day_1_cropped', 'Control_4_Day_2_cropped', 'Control_5_Day_1_cropped', 'Control_5_Day_2_cropped', 'Control_6_Day_1_cropped', 'Control_6_Day_2_cropped', 'Control_7_Day 2_cropped', 'Control_7_Day_1_cropped', 'Control_8_Day_1_cropped', 'Control_8_Day_2_cropped', 'Control_9_Day_1_cropped', 'Control_9_Day_2_cropped', 'IMG_2494', 'IMG_2495', 'Test2']\n"
     ]
    }
   ],
   "source": [
    "folders_to_edit = []\n",
    "\n",
    "for folder in os.listdir(labeled_data):\n",
    "    if not (folder.endswith('.7z') or folder.endswith(\"_labeled\")):\n",
    "        folders_to_edit.append(folder)\n",
    "        \n",
    "# this is to not edit the Control_3_Day_1_cropped folder\n",
    "folders_to_edit.remove('Control_3_Day_1_cropped')\n",
    "        \n",
    "print(folders_to_edit)"
   ]
  },
  {
   "cell_type": "code",
   "execution_count": 84,
   "metadata": {},
   "outputs": [],
   "source": [
    "for folder in folders_to_edit:\n",
    "    files = list(e for e in os.listdir(os.path.join(labeled_data, folder)))\n",
    "    files_to_remove = []\n",
    "    for file in files.copy():\n",
    "        if file.strip('.png')+'labeled.png' in files:\n",
    "            files_to_remove.append(file)\n",
    "    for file in files_to_remove:\n",
    "        os.remove(os.path.join(labeled_data, folder, file))\n",
    "        os.remove(os.path.join(labeled_data, folder, file.strip('.png')+'labeled.png'))\n",
    "    os.remove(os.path.join(labeled_data, folder, 'machinelabels.csv'))\n",
    "    os.remove(os.path.join(labeled_data, folder, 'machinelabels-iter0.h5'))\n",
    "    os.remove(os.path.join(labeled_data, folder, 'CollectedData_alja_onur.h5'))"
   ]
  },
  {
   "cell_type": "code",
   "execution_count": null,
   "metadata": {},
   "outputs": [],
   "source": []
  },
  {
   "cell_type": "code",
   "execution_count": null,
   "metadata": {},
   "outputs": [],
   "source": []
  },
  {
   "cell_type": "code",
   "execution_count": null,
   "metadata": {},
   "outputs": [],
   "source": []
  }
 ],
 "metadata": {
  "kernelspec": {
   "display_name": "Python 3",
   "language": "python",
   "name": "python3"
  },
  "language_info": {
   "codemirror_mode": {
    "name": "ipython",
    "version": 3
   },
   "file_extension": ".py",
   "mimetype": "text/x-python",
   "name": "python",
   "nbconvert_exporter": "python",
   "pygments_lexer": "ipython3",
   "version": "3.7.7"
  }
 },
 "nbformat": 4,
 "nbformat_minor": 4
}
