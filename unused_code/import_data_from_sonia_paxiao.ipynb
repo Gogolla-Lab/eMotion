{
 "cells": [
  {
   "cell_type": "code",
   "execution_count": 1,
   "metadata": {
    "collapsed": true
   },
   "outputs": [],
   "source": [
    "import os\n",
    "import pandas as pd\n",
    "import pims\n",
    "import imageio as io\n",
    "from tqdm import tqdm\n",
    "from joblib import Parallel, delayed"
   ]
  },
  {
   "cell_type": "code",
   "execution_count": 2,
   "outputs": [],
   "source": [
    "datafolder = r\"C:\\Users\\serce\\Desktop\\string_pullingxDLC_sonia_paxiao\"\n",
    "labeled_data = os.path.join(datafolder, 'labeled-data')\n",
    "if not os.path.exists(labeled_data):\n",
    "    os.mkdir(labeled_data)\n",
    "\n",
    "avis = [os.path.join(datafolder, avi) for avi in os.listdir(datafolder) if avi.endswith('.avi')]\n",
    "\n",
    "# for avi in avis.copy():\n",
    "for avi in avis:\n",
    "    folder_name = os.path.split(avi)[-1][:-4]\n",
    "    csv = folder_name+'.csv'\n",
    "    if csv not in os.listdir(datafolder):\n",
    "        print(csv, 'not in', datafolder)\n",
    "    else:\n",
    "        columns = pd.MultiIndex.from_product([['sonia_paxiao'], ['paw_f_right', 'paw_f_left'], ['x','y']], names=['scorer', 'bodyparts', 'coords'])\n",
    "        df = pd.DataFrame(columns=columns)\n",
    "        data = pd.read_csv(os.path.join(datafolder, csv))\n",
    "        if not (data.columns == ['X_RightPaw', 'Y_RightPaw', 'X_LeftPaw', 'Y_LeftPaw']).mean() == 1:\n",
    "            print('Check', csv, 'column names!!!')\n",
    "        else:\n",
    "            for i, col in enumerate(df.columns):\n",
    "                df.loc[:, col] = data.iloc[:, i].values\n",
    "            df = df.dropna(how='all')\n",
    "            videofolder = os.path.join(labeled_data, folder_name)\n",
    "            if not os.path.exists(videofolder):\n",
    "                os.mkdir(videofolder)\n",
    "            df.to_csv(os.path.join(videofolder, 'CollectedData_sonia_paxiao.csv'))"
   ],
   "metadata": {
    "collapsed": false,
    "pycharm": {
     "name": "#%%\n"
    }
   }
  },
  {
   "cell_type": "code",
   "execution_count": 3,
   "outputs": [],
   "source": [
    "def generate_video(labeled_data_subfolder, videos_folder, csvname, inputvideotype, outputvideotype='.mp4'):\n",
    "\n",
    "    video = pims.Video(os.path.join(videos_folder, os.path.split(labeled_data_subfolder)[-1]+inputvideotype))\n",
    "    fps = video.frame_rate\n",
    "    df = pd.read_csv(os.path.join(labeled_data_subfolder, csvname), index_col=0, header=[0,1,2])\n",
    "    frames = []\n",
    "    count = 0\n",
    "    for i in tqdm(df.index):\n",
    "        frames.append(video[int(i)])\n",
    "        df.loc[i, 'new_index'] = os.path.join(\"labeled-data\", os.path.split(labeled_data_subfolder)[-1],\n",
    "                                              'img'+str(count).zfill(6)+'.png')\n",
    "        io.imwrite(uri=os.path.join(labeled_data_subfolder, 'img'+str(count).zfill(6)+'.png'), im=video[i])\n",
    "        count += 1\n",
    "    vidname = os.path.join(labeled_data_subfolder, os.path.split(labeled_data_subfolder)[-1]+outputvideotype)\n",
    "    print('Writing the video and the csv file...')\n",
    "    print(vidname)\n",
    "    kwargs = {'macro_block_size': None}\n",
    "    io.mimwrite(uri=vidname, ims=frames, fps=fps, **kwargs)\n",
    "    print('Video is written')\n",
    "    df.index = df['new_index'].values\n",
    "    df = df.drop(columns='new_index')\n",
    "    df.to_csv(os.path.join(labeled_data_subfolder, csvname))\n",
    "    print(os.path.join(labeled_data_subfolder, csvname))\n",
    "    print('Csv is written')"
   ],
   "metadata": {
    "collapsed": false,
    "pycharm": {
     "name": "#%%\n"
    }
   }
  },
  {
   "cell_type": "code",
   "execution_count": 4,
   "outputs": [],
   "source": [
    "def generate_videos(labeled_data_folder, videos_folder, csvname, inputvideotype, outputvideotype='.mp4', n_jobs=16):\n",
    "\n",
    "    Parallel(n_jobs=n_jobs, verbose=100)(delayed(\n",
    "        generate_video)(os.path.join(labeled_data_folder, sub),\n",
    "                                     videos_folder, csvname,\n",
    "                                     inputvideotype, outputvideotype)\n",
    "                        for sub in os.listdir(\n",
    "        labeled_data_folder) if os.path.isdir(os.path.join(labeled_data_folder, sub)))"
   ],
   "metadata": {
    "collapsed": false,
    "pycharm": {
     "name": "#%%\n"
    }
   }
  },
  {
   "cell_type": "code",
   "execution_count": 5,
   "outputs": [
    {
     "name": "stdout",
     "output_type": "stream",
     "text": [
      "[Parallel(n_jobs=32)]: Using backend LokyBackend with 32 concurrent workers.\n",
      "[Parallel(n_jobs=32)]: Done   1 tasks      | elapsed:  1.0min\n",
      "[Parallel(n_jobs=32)]: Done   2 out of  43 | elapsed:  2.6min remaining: 52.4min\n",
      "[Parallel(n_jobs=32)]: Done   3 out of  43 | elapsed:  2.8min remaining: 36.9min\n",
      "[Parallel(n_jobs=32)]: Done   4 out of  43 | elapsed:  3.3min remaining: 32.3min\n",
      "[Parallel(n_jobs=32)]: Done   5 out of  43 | elapsed:  4.3min remaining: 32.3min\n",
      "[Parallel(n_jobs=32)]: Done   6 out of  43 | elapsed:  4.4min remaining: 27.3min\n",
      "[Parallel(n_jobs=32)]: Done   7 out of  43 | elapsed:  4.8min remaining: 24.5min\n",
      "[Parallel(n_jobs=32)]: Done   8 out of  43 | elapsed:  4.8min remaining: 20.9min\n",
      "[Parallel(n_jobs=32)]: Done   9 out of  43 | elapsed:  4.8min remaining: 18.1min\n",
      "[Parallel(n_jobs=32)]: Done  10 out of  43 | elapsed:  4.9min remaining: 16.0min\n",
      "[Parallel(n_jobs=32)]: Done  11 out of  43 | elapsed:  5.1min remaining: 14.8min\n",
      "[Parallel(n_jobs=32)]: Done  12 out of  43 | elapsed:  5.2min remaining: 13.3min\n",
      "[Parallel(n_jobs=32)]: Done  13 out of  43 | elapsed:  5.3min remaining: 12.2min\n",
      "[Parallel(n_jobs=32)]: Done  14 out of  43 | elapsed:  5.5min remaining: 11.4min\n",
      "[Parallel(n_jobs=32)]: Done  15 out of  43 | elapsed:  5.8min remaining: 10.8min\n",
      "[Parallel(n_jobs=32)]: Done  16 out of  43 | elapsed:  6.0min remaining: 10.1min\n",
      "[Parallel(n_jobs=32)]: Done  17 out of  43 | elapsed:  6.0min remaining:  9.2min\n",
      "[Parallel(n_jobs=32)]: Done  18 out of  43 | elapsed:  6.2min remaining:  8.5min\n",
      "[Parallel(n_jobs=32)]: Done  19 out of  43 | elapsed:  6.3min remaining:  8.0min\n",
      "[Parallel(n_jobs=32)]: Done  20 out of  43 | elapsed:  6.4min remaining:  7.4min\n",
      "[Parallel(n_jobs=32)]: Done  21 out of  43 | elapsed:  6.5min remaining:  6.8min\n",
      "[Parallel(n_jobs=32)]: Done  22 out of  43 | elapsed:  6.6min remaining:  6.3min\n",
      "[Parallel(n_jobs=32)]: Done  23 out of  43 | elapsed:  6.7min remaining:  5.8min\n",
      "[Parallel(n_jobs=32)]: Done  24 out of  43 | elapsed:  7.1min remaining:  5.6min\n",
      "[Parallel(n_jobs=32)]: Done  25 out of  43 | elapsed:  7.2min remaining:  5.2min\n",
      "[Parallel(n_jobs=32)]: Done  26 out of  43 | elapsed:  7.4min remaining:  4.8min\n",
      "[Parallel(n_jobs=32)]: Done  27 out of  43 | elapsed:  7.4min remaining:  4.4min\n",
      "[Parallel(n_jobs=32)]: Done  28 out of  43 | elapsed:  8.4min remaining:  4.5min\n",
      "[Parallel(n_jobs=32)]: Done  29 out of  43 | elapsed:  8.5min remaining:  4.1min\n",
      "[Parallel(n_jobs=32)]: Done  30 out of  43 | elapsed:  8.6min remaining:  3.7min\n",
      "[Parallel(n_jobs=32)]: Done  31 out of  43 | elapsed:  8.8min remaining:  3.4min\n",
      "[Parallel(n_jobs=32)]: Done  32 out of  43 | elapsed:  9.0min remaining:  3.1min\n",
      "[Parallel(n_jobs=32)]: Done  33 out of  43 | elapsed:  9.3min remaining:  2.8min\n",
      "[Parallel(n_jobs=32)]: Done  34 out of  43 | elapsed:  9.3min remaining:  2.5min\n",
      "[Parallel(n_jobs=32)]: Done  35 out of  43 | elapsed:  9.6min remaining:  2.2min\n",
      "[Parallel(n_jobs=32)]: Done  36 out of  43 | elapsed:  9.7min remaining:  1.9min\n",
      "[Parallel(n_jobs=32)]: Done  37 out of  43 | elapsed:  9.8min remaining:  1.6min\n",
      "[Parallel(n_jobs=32)]: Done  38 out of  43 | elapsed: 10.1min remaining:  1.3min\n",
      "[Parallel(n_jobs=32)]: Done  39 out of  43 | elapsed: 10.1min remaining:  1.0min\n",
      "[Parallel(n_jobs=32)]: Done  40 out of  43 | elapsed: 12.7min remaining:   57.0s\n",
      "[Parallel(n_jobs=32)]: Done  41 out of  43 | elapsed: 12.9min remaining:   37.6s\n",
      "[Parallel(n_jobs=32)]: Done  43 out of  43 | elapsed: 17.6min remaining:    0.0s\n",
      "[Parallel(n_jobs=32)]: Done  43 out of  43 | elapsed: 17.6min finished\n",
      "All done!\n"
     ]
    }
   ],
   "source": [
    "labeled_data_folder = labeled_data\n",
    "videos_folder = r\"C:\\Users\\serce\\Desktop\\string_pullingxDLC_sonia_paxiao\"\n",
    "csvname = 'CollectedData_sonia_paxiao.csv'\n",
    "inputvideotype = \".avi\"\n",
    "\n",
    "generate_videos(labeled_data_folder, videos_folder, csvname, inputvideotype, outputvideotype='.mp4', n_jobs=32)\n",
    "print('All done!')"
   ],
   "metadata": {
    "collapsed": false,
    "pycharm": {
     "name": "#%%\n"
    }
   }
  }
 ],
 "metadata": {
  "kernelspec": {
   "name": "conda-env-behaviour-switching-py",
   "language": "python",
   "display_name": "Python [conda env:behaviour-switching] *"
  },
  "language_info": {
   "codemirror_mode": {
    "name": "ipython",
    "version": 2
   },
   "file_extension": ".py",
   "mimetype": "text/x-python",
   "name": "python",
   "nbconvert_exporter": "python",
   "pygments_lexer": "ipython2",
   "version": "2.7.6"
  }
 },
 "nbformat": 4,
 "nbformat_minor": 0
}