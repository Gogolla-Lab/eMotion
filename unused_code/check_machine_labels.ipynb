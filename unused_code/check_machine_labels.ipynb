{
 "cells": [
  {
   "cell_type": "code",
   "execution_count": 2,
   "metadata": {
    "collapsed": true
   },
   "outputs": [],
   "source": [
    "import pandas as pd\n",
    "import os"
   ]
  },
  {
   "cell_type": "code",
   "execution_count": 8,
   "outputs": [],
   "source": [
    "# csv = r\"\\\\NAS7\\datastore_gogolla_group$\\Onur Serce\\server_mirror\\project\\labeled-data\\ChR2_1_Day1_masked\\machinelabels.csv\"\n",
    "# h5 = r\"\\\\NAS7\\datastore_gogolla_group$\\Onur Serce\\server_mirror\\project\\labeled-data\\ChR2_1_Day1_masked\\machinelabels-iter2.h5\"\n",
    "# df = pd.read_csv(csv, index_col=0, header=[0, 1, 2])\n",
    "# df.to_hdf(h5, key='df_with_missing', format='table')"
   ],
   "metadata": {
    "collapsed": false,
    "pycharm": {
     "name": "#%%\n"
    }
   }
  }
 ],
 "metadata": {
  "kernelspec": {
   "name": "conda-env-behaviour-switching-py",
   "language": "python",
   "display_name": "Python [conda env:behaviour-switching] *"
  },
  "language_info": {
   "codemirror_mode": {
    "name": "ipython",
    "version": 2
   },
   "file_extension": ".py",
   "mimetype": "text/x-python",
   "name": "python",
   "nbconvert_exporter": "python",
   "pygments_lexer": "ipython2",
   "version": "2.7.6"
  }
 },
 "nbformat": 4,
 "nbformat_minor": 0
}