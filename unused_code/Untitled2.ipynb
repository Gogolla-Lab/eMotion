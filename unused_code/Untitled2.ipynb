{
 "cells": [
  {
   "cell_type": "code",
   "execution_count": 1,
   "metadata": {},
   "outputs": [],
   "source": [
    "import numpy as np\n",
    "import pandas as pd\n",
    "import matplotlib.pyplot as plt\n",
    "import seaborn as sns"
   ]
  },
  {
   "cell_type": "code",
   "execution_count": 2,
   "metadata": {},
   "outputs": [],
   "source": [
    "df = pd.read_csv('J:Onur Serce/dlc_real-alja_onur-2020-04-06/videos/Control_3_Day_1_croppedDLC_resnet50_dlc_realApr6shuffle1_50000.csv',\n",
    "                header=[0,1,2])"
   ]
  },
  {
   "cell_type": "code",
   "execution_count": 3,
   "metadata": {},
   "outputs": [
    {
     "data": {
      "text/html": [
       "<div>\n",
       "<style scoped>\n",
       "    .dataframe tbody tr th:only-of-type {\n",
       "        vertical-align: middle;\n",
       "    }\n",
       "\n",
       "    .dataframe tbody tr th {\n",
       "        vertical-align: top;\n",
       "    }\n",
       "\n",
       "    .dataframe thead tr th {\n",
       "        text-align: left;\n",
       "    }\n",
       "</style>\n",
       "<table border=\"1\" class=\"dataframe\">\n",
       "  <thead>\n",
       "    <tr>\n",
       "      <th></th>\n",
       "      <th>scorer</th>\n",
       "      <th colspan=\"20\" halign=\"left\">DLC_resnet50_dlc_realApr6shuffle1_50000</th>\n",
       "    </tr>\n",
       "    <tr>\n",
       "      <th></th>\n",
       "      <th>bodyparts</th>\n",
       "      <th colspan=\"3\" halign=\"left\">left_ear</th>\n",
       "      <th colspan=\"3\" halign=\"left\">right_ear</th>\n",
       "      <th colspan=\"3\" halign=\"left\">snout</th>\n",
       "      <th>...</th>\n",
       "      <th>paw_f_right</th>\n",
       "      <th colspan=\"3\" halign=\"left\">paw_f_left</th>\n",
       "      <th colspan=\"3\" halign=\"left\">paw_h_right</th>\n",
       "      <th colspan=\"3\" halign=\"left\">paw_h_left</th>\n",
       "    </tr>\n",
       "    <tr>\n",
       "      <th></th>\n",
       "      <th>coords</th>\n",
       "      <th>x</th>\n",
       "      <th>y</th>\n",
       "      <th>likelihood</th>\n",
       "      <th>x</th>\n",
       "      <th>y</th>\n",
       "      <th>likelihood</th>\n",
       "      <th>x</th>\n",
       "      <th>y</th>\n",
       "      <th>likelihood</th>\n",
       "      <th>...</th>\n",
       "      <th>likelihood</th>\n",
       "      <th>x</th>\n",
       "      <th>y</th>\n",
       "      <th>likelihood</th>\n",
       "      <th>x</th>\n",
       "      <th>y</th>\n",
       "      <th>likelihood</th>\n",
       "      <th>x</th>\n",
       "      <th>y</th>\n",
       "      <th>likelihood</th>\n",
       "    </tr>\n",
       "  </thead>\n",
       "  <tbody>\n",
       "    <tr>\n",
       "      <th>0</th>\n",
       "      <td>0</td>\n",
       "      <td>424.751404</td>\n",
       "      <td>335.055084</td>\n",
       "      <td>0.999625</td>\n",
       "      <td>424.990692</td>\n",
       "      <td>319.519257</td>\n",
       "      <td>0.999884</td>\n",
       "      <td>406.577667</td>\n",
       "      <td>323.207977</td>\n",
       "      <td>0.999932</td>\n",
       "      <td>...</td>\n",
       "      <td>0.255540</td>\n",
       "      <td>513.385437</td>\n",
       "      <td>390.163177</td>\n",
       "      <td>0.002420</td>\n",
       "      <td>455.009644</td>\n",
       "      <td>301.675873</td>\n",
       "      <td>0.851738</td>\n",
       "      <td>515.065979</td>\n",
       "      <td>396.378571</td>\n",
       "      <td>0.002179</td>\n",
       "    </tr>\n",
       "    <tr>\n",
       "      <th>1</th>\n",
       "      <td>1</td>\n",
       "      <td>421.689575</td>\n",
       "      <td>336.742767</td>\n",
       "      <td>0.999967</td>\n",
       "      <td>422.802002</td>\n",
       "      <td>321.797913</td>\n",
       "      <td>0.999983</td>\n",
       "      <td>402.771210</td>\n",
       "      <td>326.193085</td>\n",
       "      <td>0.999986</td>\n",
       "      <td>...</td>\n",
       "      <td>0.068578</td>\n",
       "      <td>512.880127</td>\n",
       "      <td>389.441254</td>\n",
       "      <td>0.001889</td>\n",
       "      <td>452.961700</td>\n",
       "      <td>305.761139</td>\n",
       "      <td>0.597118</td>\n",
       "      <td>452.030975</td>\n",
       "      <td>343.254791</td>\n",
       "      <td>0.007390</td>\n",
       "    </tr>\n",
       "    <tr>\n",
       "      <th>2</th>\n",
       "      <td>2</td>\n",
       "      <td>414.934631</td>\n",
       "      <td>338.533478</td>\n",
       "      <td>0.999902</td>\n",
       "      <td>415.218567</td>\n",
       "      <td>324.093292</td>\n",
       "      <td>0.999925</td>\n",
       "      <td>396.618896</td>\n",
       "      <td>329.589264</td>\n",
       "      <td>0.999974</td>\n",
       "      <td>...</td>\n",
       "      <td>0.204560</td>\n",
       "      <td>510.633911</td>\n",
       "      <td>374.446259</td>\n",
       "      <td>0.004359</td>\n",
       "      <td>445.929443</td>\n",
       "      <td>307.168640</td>\n",
       "      <td>0.998907</td>\n",
       "      <td>450.145477</td>\n",
       "      <td>342.313629</td>\n",
       "      <td>0.051436</td>\n",
       "    </tr>\n",
       "    <tr>\n",
       "      <th>3</th>\n",
       "      <td>3</td>\n",
       "      <td>407.659607</td>\n",
       "      <td>339.128113</td>\n",
       "      <td>0.999965</td>\n",
       "      <td>409.189178</td>\n",
       "      <td>324.656860</td>\n",
       "      <td>0.999964</td>\n",
       "      <td>389.478424</td>\n",
       "      <td>328.581116</td>\n",
       "      <td>0.999979</td>\n",
       "      <td>...</td>\n",
       "      <td>0.011645</td>\n",
       "      <td>510.991974</td>\n",
       "      <td>373.813141</td>\n",
       "      <td>0.003016</td>\n",
       "      <td>443.210663</td>\n",
       "      <td>309.139557</td>\n",
       "      <td>0.989437</td>\n",
       "      <td>448.721344</td>\n",
       "      <td>340.532379</td>\n",
       "      <td>0.005895</td>\n",
       "    </tr>\n",
       "    <tr>\n",
       "      <th>4</th>\n",
       "      <td>4</td>\n",
       "      <td>398.432281</td>\n",
       "      <td>339.544983</td>\n",
       "      <td>0.999906</td>\n",
       "      <td>401.767853</td>\n",
       "      <td>326.037567</td>\n",
       "      <td>0.999927</td>\n",
       "      <td>381.818726</td>\n",
       "      <td>329.049316</td>\n",
       "      <td>0.999967</td>\n",
       "      <td>...</td>\n",
       "      <td>0.005045</td>\n",
       "      <td>511.847443</td>\n",
       "      <td>373.460876</td>\n",
       "      <td>0.004003</td>\n",
       "      <td>445.996124</td>\n",
       "      <td>310.874573</td>\n",
       "      <td>0.992309</td>\n",
       "      <td>447.798279</td>\n",
       "      <td>341.296967</td>\n",
       "      <td>0.025118</td>\n",
       "    </tr>\n",
       "  </tbody>\n",
       "</table>\n",
       "<p>5 rows × 37 columns</p>\n",
       "</div>"
      ],
      "text/plain": [
       "     scorer DLC_resnet50_dlc_realApr6shuffle1_50000                         \\\n",
       "  bodyparts                                left_ear                          \n",
       "     coords                                       x           y likelihood   \n",
       "0         0                              424.751404  335.055084   0.999625   \n",
       "1         1                              421.689575  336.742767   0.999967   \n",
       "2         2                              414.934631  338.533478   0.999902   \n",
       "3         3                              407.659607  339.128113   0.999965   \n",
       "4         4                              398.432281  339.544983   0.999906   \n",
       "\n",
       "                                                                         ...  \\\n",
       "    right_ear                              snout                         ...   \n",
       "            x           y likelihood           x           y likelihood  ...   \n",
       "0  424.990692  319.519257   0.999884  406.577667  323.207977   0.999932  ...   \n",
       "1  422.802002  321.797913   0.999983  402.771210  326.193085   0.999986  ...   \n",
       "2  415.218567  324.093292   0.999925  396.618896  329.589264   0.999974  ...   \n",
       "3  409.189178  324.656860   0.999964  389.478424  328.581116   0.999979  ...   \n",
       "4  401.767853  326.037567   0.999927  381.818726  329.049316   0.999967  ...   \n",
       "\n",
       "                                                                          \\\n",
       "  paw_f_right  paw_f_left                        paw_h_right               \n",
       "   likelihood           x           y likelihood           x           y   \n",
       "0    0.255540  513.385437  390.163177   0.002420  455.009644  301.675873   \n",
       "1    0.068578  512.880127  389.441254   0.001889  452.961700  305.761139   \n",
       "2    0.204560  510.633911  374.446259   0.004359  445.929443  307.168640   \n",
       "3    0.011645  510.991974  373.813141   0.003016  443.210663  309.139557   \n",
       "4    0.005045  511.847443  373.460876   0.004003  445.996124  310.874573   \n",
       "\n",
       "                                                 \n",
       "              paw_h_left                         \n",
       "  likelihood           x           y likelihood  \n",
       "0   0.851738  515.065979  396.378571   0.002179  \n",
       "1   0.597118  452.030975  343.254791   0.007390  \n",
       "2   0.998907  450.145477  342.313629   0.051436  \n",
       "3   0.989437  448.721344  340.532379   0.005895  \n",
       "4   0.992309  447.798279  341.296967   0.025118  \n",
       "\n",
       "[5 rows x 37 columns]"
      ]
     },
     "execution_count": 3,
     "metadata": {},
     "output_type": "execute_result"
    }
   ],
   "source": [
    "df.head()"
   ]
  },
  {
   "cell_type": "code",
   "execution_count": 4,
   "metadata": {},
   "outputs": [],
   "source": [
    "from sklearn import decomposition\n",
    "\n",
    "X = df.iloc[:, 1:]\n",
    "\n",
    "pca = decomposition.PCA(whiten=True, svd_solver='full')\n",
    "\n",
    "transformed = pca.fit_transform(X)"
   ]
  },
  {
   "cell_type": "code",
   "execution_count": 5,
   "metadata": {},
   "outputs": [
    {
     "data": {
      "text/plain": [
       "<matplotlib.axes._subplots.AxesSubplot at 0x120bb154d88>"
      ]
     },
     "execution_count": 5,
     "metadata": {},
     "output_type": "execute_result"
    },
    {
     "data": {
      "image/png": "[encoded data removed]",
      "text/plain": [
       "<Figure size 432x288 with 1 Axes>"
      ]
     },
     "metadata": {
      "needs_background": "light"
     },
     "output_type": "display_data"
    }
   ],
   "source": [
    "expVar = pd.DataFrame(data=pca.explained_variance_ratio_, columns=['explained variance ratio'])\n",
    "expVar\n",
    "sns.barplot(data=expVar, y='explained variance ratio', x=list(range(1,37)))"
   ]
  },
  {
   "cell_type": "code",
   "execution_count": 6,
   "metadata": {},
   "outputs": [],
   "source": [
    "eigenmouse = pca.components_"
   ]
  },
  {
   "cell_type": "code",
   "execution_count": 7,
   "metadata": {},
   "outputs": [
    {
     "data": {
      "text/plain": [
       "array([1.58891448e+02, 1.62773917e+02, 9.81683212e-01, 1.54253027e+02,\n",
       "       1.64804544e+02, 9.77414413e-01, 1.59240567e+02, 1.69780850e+02,\n",
       "       9.11068264e-01, 1.52136258e+02, 1.54660371e+02, 9.94796773e-01,\n",
       "       1.58418692e+02, 1.51949888e+02, 9.66818063e-01, 1.45275870e+02,\n",
       "       1.58170741e+02, 9.75002733e-01, 1.45606209e+02, 1.43995041e+02,\n",
       "       9.49729714e-01, 1.60828992e+02, 1.42258787e+02, 8.68176697e-01,\n",
       "       1.47584756e+02, 1.62140239e+02, 9.25240463e-02, 1.59844251e+02,\n",
       "       1.53760367e+02, 4.55597675e-02, 1.50558736e+02, 1.56107063e+02,\n",
       "       1.38982377e-01, 1.63524709e+02, 1.52044471e+02, 1.60565855e-01])"
      ]
     },
     "execution_count": 7,
     "metadata": {},
     "output_type": "execute_result"
    }
   ],
   "source": [
    "pca.mean_"
   ]
  },
  {
   "cell_type": "code",
   "execution_count": 11,
   "metadata": {},
   "outputs": [
    {
     "data": {
      "text/plain": [
       "(36, 36)"
      ]
     },
     "execution_count": 11,
     "metadata": {},
     "output_type": "execute_result"
    }
   ],
   "source": [
    "eigenmouse.shape"
   ]
  },
  {
   "cell_type": "code",
   "execution_count": null,
   "metadata": {},
   "outputs": [],
   "source": [
    "def generate_reconstructed_points(k, rotation):\n",
    "    R = np.array([[np.cos(np.radians(rotation)), -np.sin(np.radians(rotation))],\n",
    "                  [np.sin(np.radians(rotation)), np.cos(np.radians(rotation))]])\n",
    "    all_points = []\n",
    "    for i, tail_shape in enumerate(k):\n",
    "        vs = np.array([-np.cos(tail_shape), np.sin(tail_shape)]).T\n",
    "        ps = np.zeros((len(vs) + 1, 2))\n",
    "        ps[1:] = np.cumsum(vs, axis=0)\n",
    "        if rotation:\n",
    "            ps = np.dot(R, ps.T)\n",
    "        else:\n",
    "            ps = ps.T\n",
    "        all_points.append(ps)\n",
    "    return np.array(all_points)\n",
    "\n",
    "\n",
    "def plot_reconstructed_points(ax, points,  fs=500., color='time', lw=3, **kwargs):\n",
    "    \"\"\"Plot an overlay of tail points on a given axes.\n",
    "\n",
    "    Parameters\n",
    "    ----------\n",
    "    ax : matplotlib.axes.Axes\n",
    "        The Axes instance on which to plot the tail points.\n",
    "    points : np.ndarray\n",
    "        An array of xy coordinates representing the tail in each frame with shape (n_frames, 2, n_points).\n",
    "    fs : float\n",
    "        The sampling frequency at which data were acquired.\n",
    "    color : str or Colormap or list-like, optional\n",
    "        If string, should be either a valid matplotlib color or {'t', 'time'} or 'binary'. If 't' or 'time' the\n",
    "        standard TimeMap is used. If 'binary' the Binary colormap is used. Otherwise, a Colormap instance for computing\n",
    "        the color of the tail in each frame. Otherwise, a list of colors corresponding to each frame.\n",
    "    lw : int or float, optional\n",
    "        The line width of the tail.\n",
    "\n",
    "    Other Parameters\n",
    "    ----------------\n",
    "    t_lim : tuple of floats\n",
    "        The first and last time frame to plot (in seconds). Default behavior is to plot all frames.\n",
    "    alpha : float\n",
    "        Alpha value (between 0 and 1).\n",
    "    c_lim : tuple\n",
    "        Tuple of floats. Upper and lower values for initializing the TimeMap. Default is the same as t_lim.\n",
    "\n",
    "    Returns\n",
    "    -------\n",
    "    None\n",
    "    \"\"\"\n",
    "    fs = float(fs)\n",
    "    plotting_kwargs = dict(lw=lw)\n",
    "    # Calculate frames to plot\n",
    "    bout_length = len(points) / fs\n",
    "    t_lim = kwargs.get('t_lim', (0, bout_length))\n",
    "    first_frame = int(t_lim[0] * fs)\n",
    "    last_frame = int(t_lim[1] * fs)\n",
    "    ps = points[first_frame:last_frame]\n",
    "    # Set colors\n",
    "    if is_color_like(color):\n",
    "        colors = color\n",
    "        plotting_kwargs['alpha'] = kwargs.get('alpha', 1)\n",
    "    elif isinstance(color, str):\n",
    "        if color.lower() in ('t', 'time'):  # If standard TimeMap being used\n",
    "            c_lim = kwargs.get('c_lim', t_lim)\n",
    "            colors = TimeMap(*c_lim).map(np.linspace(t_lim[0], t_lim[1], len(ps)))\n",
    "        elif color == 'binary':  # If BinaryMap being used\n",
    "            colors = ColorMap('binary', (0, len(ps) - 1)).map(np.arange(len(ps)))\n",
    "        else:\n",
    "            raise ValueError('c must be valid color')\n",
    "        plotting_kwargs['alpha'] = kwargs.get('alpha', 1)\n",
    "    elif isinstance(color, ColorMap):  # If an alternative Colormap is being used\n",
    "        colors = color.map(np.arange(len(ps)))\n",
    "    else:  # If a list of colors is being used\n",
    "        colors = color[-len(ps):]\n",
    "    # Plot\n",
    "    for i, (xs, ys) in enumerate(ps):\n",
    "        ax.plot(xs, ys, color=colors[i], **plotting_kwargs)"
   ]
  },
  {
   "cell_type": "code",
   "execution_count": 28,
   "metadata": {},
   "outputs": [
    {
     "data": {
      "image/png": "[encoded data removed]",
      "text/plain": [
       "<Figure size 432x288 with 3 Axes>"
      ]
     },
     "metadata": {
      "needs_background": "light"
     },
     "output_type": "display_data"
    }
   ],
   "source": [
    "from matplotlib import gridspec\n",
    "std = 1\n",
    "mean = 5\n",
    "\n",
    "eigenfish = eigenmouse.copy()\n",
    "n_components = 3\n",
    "\n",
    "fig = plt.figure()\n",
    "gs = gridspec.GridSpec(1, n_components, left=0, right=1, bottom=0.05, top=0.95, wspace=0)\n",
    "axes = [fig.add_subplot(gs[i]) for i in range(n_components)]\n",
    "\n",
    "for pc, ax in enumerate(axes):\n",
    "    eigenseries = np.array([eigenfish[pc] * i for i in np.linspace(0, 10, 50)])\n",
    "    eigenseries = (eigenseries * std) + mean\n",
    "    tail_points = generate_reconstructed_points(eigenseries, 90)\n",
    "#    plot_reconstructed_points(ax, tail_points, color='binary', lw=2)\n",
    "    ax.set_xlim(-50, 0)\n",
    "    ax.axis('equal')\n",
    "    ax.axis('off')\n",
    "\n",
    "plt.show()"
   ]
  },
  {
   "cell_type": "code",
   "execution_count": null,
   "metadata": {},
   "outputs": [],
   "source": [
    "def map_data(data, vectors):\n",
    "    assert vectors.shape[1] == data.shape[1]\n",
    "    mapped = np.dot(data, vectors.T)\n",
    "    return mapped\n",
    "\n",
    "# mapped = map_data(data_to_map, vectors)"
   ]
  },
  {
   "cell_type": "code",
   "execution_count": null,
   "metadata": {},
   "outputs": [],
   "source": [
    "from sklearn.manifold import Isomap\n",
    "from sklearn.preprocessing import StandardScaler\n",
    "\n",
    "scaler = StandardScaler()\n",
    "X = scaler.fit_transform(df.iloc[:, 1:])\n",
    "X.shape\n",
    "embedding = Isomap(n_components=2)\n",
    "X_transformed = embedding.fit_transform(X[:5000])\n",
    "X_transformed.shape"
   ]
  },
  {
   "cell_type": "code",
   "execution_count": null,
   "metadata": {},
   "outputs": [],
   "source": [
    "isoplot = pd.DataFrame(data=X_transformed, columns=['one','two'])"
   ]
  },
  {
   "cell_type": "code",
   "execution_count": null,
   "metadata": {},
   "outputs": [],
   "source": [
    "sns.scatterplot(data=isoplot, x='one', y=\"two\")"
   ]
  },
  {
   "cell_type": "code",
   "execution_count": null,
   "metadata": {},
   "outputs": [],
   "source": []
  },
  {
   "cell_type": "code",
   "execution_count": null,
   "metadata": {},
   "outputs": [],
   "source": []
  },
  {
   "cell_type": "code",
   "execution_count": null,
   "metadata": {},
   "outputs": [],
   "source": []
  }
 ],
 "metadata": {
  "kernelspec": {
   "display_name": "Python 3",
   "language": "python",
   "name": "python3"
  },
  "language_info": {
   "codemirror_mode": {
    "name": "ipython",
    "version": 3
   },
   "file_extension": ".py",
   "mimetype": "text/x-python",
   "name": "python",
   "nbconvert_exporter": "python",
   "pygments_lexer": "ipython3",
   "version": "3.7.7"
  }
 },
 "nbformat": 4,
 "nbformat_minor": 4
}
