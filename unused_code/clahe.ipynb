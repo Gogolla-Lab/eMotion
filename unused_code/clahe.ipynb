{
 "cells": [
  {
   "cell_type": "code",
   "execution_count": null,
   "metadata": {},
   "outputs": [],
   "source": [
    "import numpy as np\n",
    "import os\n",
    "import cv2 as cv\n",
    "import matplotlib.pyplot as plt\n",
    "from shutil import copy2 as cp"
   ]
  },
  {
   "cell_type": "code",
   "execution_count": null,
   "metadata": {
    "pycharm": {
     "name": "#%%\n"
    }
   },
   "outputs": [],
   "source": [
    "project_path = \"//NAS7/datastore_gogolla_group$/Onur Serce/server_mirror/project/\"\n",
    "labeled_data = os.path.join(project_path, 'labeled-data')\n",
    "\n",
    "for folder in os.listdir(labeled_data):\n",
    "    folder_path = os.path.join(labeled_data, folder)\n",
    "    if os.path.isdir(folder_path) and not folder_path.endswith('firstmaze'):\n",
    "        if folder_path.endswith('_L') or folder_path.endswith('_R'):\n",
    "            print(folder_path)\n",
    "            os.mkdir(os.path.join(folder_path, \"non_chale\"))\n",
    "            for file in os.listdir(folder_path):\n",
    "                if file.endswith('.png'):\n",
    "                    print(file)\n",
    "                    cp(os.path.join(folder_path, file), os.path.join(folder_path, \"non_chale\"))\n",
    "                    print('copied the file to non_chale folder')\n",
    "                    img = cv.imread(os.path.join(folder_path, file), 0)\n",
    "                    print('img.shape before clahe: ', img.shape)\n",
    "                    clahe = cv.createCLAHE(clipLimit=2.0, tileGridSize=(8,8))\n",
    "                    img = clahe.apply(img)\n",
    "                    print('img.shape after clahe: ', img.shape)\n",
    "                    os.remove(os.path.join(folder_path, file))\n",
    "                    cv.imwrite(os.path.join(folder_path, file), img)"
   ]
  }
 ],
 "metadata": {
  "kernelspec": {
   "display_name": "Python 3",
   "language": "python",
   "name": "python3"
  },
  "language_info": {
   "codemirror_mode": {
    "name": "ipython",
    "version": 3
   },
   "file_extension": ".py",
   "mimetype": "text/x-python",
   "name": "python",
   "nbconvert_exporter": "python",
   "pygments_lexer": "ipython3",
   "version": "3.7.7"
  }
 },
 "nbformat": 4,
 "nbformat_minor": 4
}