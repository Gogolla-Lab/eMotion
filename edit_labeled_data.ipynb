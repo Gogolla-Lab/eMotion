{
 "cells": [
  {
   "cell_type": "code",
   "execution_count": null,
   "metadata": {
    "collapsed": true,
    "pycharm": {
     "name": "#%%\n"
    }
   },
   "outputs": [],
   "source": [
    "import os\n",
    "import pandas as pd\n",
    "\n",
    "project_folder = r\"J:\\Onur Serce\\server_mirror\\project\"\n",
    "labeled_data = os.path.join(project_folder, 'labeled-data')\n",
    "\n",
    "for d in os.listdir(labeled_data):\n",
    "    if 'labeled' not in d:\n",
    "        if os.path.isdir(os.path.join(labeled_data, d)):\n",
    "            videofolder = os.path.join(labeled_data, d)\n",
    "            csv = os.path.join(videofolder, 'CollectedData_alja_onur.csv')\n",
    "            if os.path.exists(csv):\n",
    "                df = pd.read_csv(csv, index_col=0)\n",
    "                try:\n",
    "                    df = df.drop(index='individuals')\n",
    "                    df.to_csv(csv)\n",
    "                except KeyError:\n",
    "                    print(csv, \"does not contain 'individuals' column\")"
   ]
  },
  {
   "cell_type": "code",
   "execution_count": null,
   "outputs": [],
   "source": [
    "import deeplabcut as dlc\n",
    "config = os.path.join(project_folder, 'config.yaml')\n",
    "dlc.convertcsv2h5(config=config, userfeedback=False)"
   ],
   "metadata": {
    "collapsed": false,
    "pycharm": {
     "name": "#%%\n"
    }
   }
  }
 ],
 "metadata": {
  "kernelspec": {
   "name": "conda-env-behaviour-switching-py",
   "language": "python",
   "display_name": "Python [conda env:behaviour-switching] *"
  },
  "language_info": {
   "codemirror_mode": {
    "name": "ipython",
    "version": 2
   },
   "file_extension": ".py",
   "mimetype": "text/x-python",
   "name": "python",
   "nbconvert_exporter": "python",
   "pygments_lexer": "ipython2",
   "version": "2.7.6"
  }
 },
 "nbformat": 4,
 "nbformat_minor": 0
}