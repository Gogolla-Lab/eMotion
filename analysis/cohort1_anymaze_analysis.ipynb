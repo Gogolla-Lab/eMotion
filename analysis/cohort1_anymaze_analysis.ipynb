{
 "cells": [
  {
   "cell_type": "code",
   "execution_count": 1,
   "metadata": {
    "collapsed": true
   },
   "outputs": [],
   "source": [
    "import os\n",
    "import numpy as np\n",
    "import pandas as pd\n",
    "import matplotlib.pyplot as plt\n",
    "import seaborn as sns"
   ]
  },
  {
   "cell_type": "code",
   "execution_count": 6,
   "outputs": [],
   "source": [
    "folder = 'J:\\Alja Podgornik\\Multimaze arena\\Cohort 1_June 2020\\\\dlc_csv_outputs'\n",
    "csvs = [csv for csv in os.listdir(folder) if csv.endswith('.csv')]"
   ],
   "metadata": {
    "collapsed": false,
    "pycharm": {
     "name": "#%%\n"
    }
   }
  },
  {
   "cell_type": "code",
   "execution_count": null,
   "outputs": [],
   "source": [
    "df = pd.read_csv(os.path.join(folder, csvs[0]), header=[1,2])\n",
    "df"
   ],
   "metadata": {
    "collapsed": false,
    "pycharm": {
     "name": "#%%\n"
    }
   }
  },
  {
   "cell_type": "code",
   "execution_count": null,
   "outputs": [],
   "source": [],
   "metadata": {
    "collapsed": false,
    "pycharm": {
     "name": "#%%\n"
    }
   }
  },
  {
   "cell_type": "code",
   "execution_count": 8,
   "metadata": {},
   "outputs": [
    {
     "output_type": "execute_result",
     "data": {
      "text/plain": "       bodyparts    left_ear                          right_ear              \\\n          coords           x           y likelihood           x           y   \n0              0  886.423157  181.912231   0.979273  889.774902  218.406067   \n1              1  886.877686  179.513016   0.985991  890.484985  215.411072   \n2              2  885.649414  178.618469   0.982035  887.549133  215.091690   \n3              3  884.481445  177.026794   0.976316  888.802490  214.224792   \n4              4  885.166931  176.769638   0.935346  889.724365  214.664230   \n...          ...         ...         ...        ...         ...         ...   \n108386    108386  335.334198  146.807785   0.435226  340.275391  187.099548   \n108387    108387  336.246521  145.162872   0.275051  337.888153  184.479965   \n108388    108388  338.548920  177.263596   0.134843  341.579773  184.663635   \n108389    108389  337.164703  179.643127   0.034424  343.455658  187.656204   \n108390    108390  342.727753  143.132721   0.008397  344.986115  191.325928   \n\n                        snout                         ... paw_f_left  \\\n       likelihood           x           y likelihood  ... likelihood   \n0        0.896309  920.671509  199.695389   0.379365  ...   0.169199   \n1        0.979518  920.358032  197.145645   0.317466  ...   0.182820   \n2        0.986159  916.476562  195.577881   0.405637  ...   0.187516   \n3        0.976675  915.160583  193.669525   0.352473  ...   0.194267   \n4        0.967430  916.552124  193.925995   0.355776  ...   0.194050   \n...           ...         ...         ...        ...  ...        ...   \n108386   0.971818  350.283569  154.567032   0.234330  ...   0.020545   \n108387   0.988278  348.331787  150.595139   0.439545  ...   0.022424   \n108388   0.970189  349.415070  150.568619   0.757976  ...   0.014978   \n108389   0.641647  351.065216  146.263184   0.468710  ...   0.018504   \n108390   0.004085  234.470322  207.573273   0.391418  ...   0.030882   \n\n       paw_h_right                         paw_h_left                         \\\n                 x           y likelihood           x           y likelihood   \n0       745.182129  241.477600   0.746460  744.699219  247.033142   0.223315   \n1       745.165283  241.356262   0.738251  846.483276  245.140518   0.369483   \n2       744.992432  240.800903   0.681824  845.933472  244.349274   0.317031   \n3       744.476501  241.184357   0.656566  745.870667  246.263428   0.328950   \n4       744.740417  241.057846   0.642856  746.367920  246.345749   0.316978   \n...            ...         ...        ...         ...         ...        ...   \n108386  227.086166  213.409760   0.118458  227.803574  209.677170   0.138705   \n108387  288.949890  238.283981   0.219195  344.329041  150.660400   0.099847   \n108388  288.414520  239.446213   0.131241  343.996277  193.180176   0.059040   \n108389  291.234009  234.602829   0.058875  345.485931  193.470322   0.180335   \n108390  292.654755  235.130371   0.139460  342.962402  199.210938   0.378202   \n\n          tail_tip                         \n                 x           y likelihood  \n0       147.513931  645.812317   0.916236  \n1       147.886169  645.762451   0.983647  \n2       580.401794  189.616333   0.925843  \n3       148.027283  646.064941   0.947428  \n4       147.701019  646.627747   0.912752  \n...            ...         ...        ...  \n108386  348.062225  140.442444   0.023635  \n108387  349.965515  139.402405   0.022171  \n108388  350.620758  141.145477   0.009133  \n108389  348.026215  196.265137   0.004347  \n108390  351.934845  136.391464   0.006099  \n\n[108391 rows x 40 columns]",
      "text/html": "<div>\n<style scoped>\n    .dataframe tbody tr th:only-of-type {\n        vertical-align: middle;\n    }\n\n    .dataframe tbody tr th {\n        vertical-align: top;\n    }\n\n    .dataframe thead tr th {\n        text-align: left;\n    }\n</style>\n<table border=\"1\" class=\"dataframe\">\n  <thead>\n    <tr>\n      <th></th>\n      <th>bodyparts</th>\n      <th colspan=\"3\" halign=\"left\">left_ear</th>\n      <th colspan=\"3\" halign=\"left\">right_ear</th>\n      <th colspan=\"3\" halign=\"left\">snout</th>\n      <th>...</th>\n      <th>paw_f_left</th>\n      <th colspan=\"3\" halign=\"left\">paw_h_right</th>\n      <th colspan=\"3\" halign=\"left\">paw_h_left</th>\n      <th colspan=\"3\" halign=\"left\">tail_tip</th>\n    </tr>\n    <tr>\n      <th></th>\n      <th>coords</th>\n      <th>x</th>\n      <th>y</th>\n      <th>likelihood</th>\n      <th>x</th>\n      <th>y</th>\n      <th>likelihood</th>\n      <th>x</th>\n      <th>y</th>\n      <th>likelihood</th>\n      <th>...</th>\n      <th>likelihood</th>\n      <th>x</th>\n      <th>y</th>\n      <th>likelihood</th>\n      <th>x</th>\n      <th>y</th>\n      <th>likelihood</th>\n      <th>x</th>\n      <th>y</th>\n      <th>likelihood</th>\n    </tr>\n  </thead>\n  <tbody>\n    <tr>\n      <th>0</th>\n      <td>0</td>\n      <td>886.423157</td>\n      <td>181.912231</td>\n      <td>0.979273</td>\n      <td>889.774902</td>\n      <td>218.406067</td>\n      <td>0.896309</td>\n      <td>920.671509</td>\n      <td>199.695389</td>\n      <td>0.379365</td>\n      <td>...</td>\n      <td>0.169199</td>\n      <td>745.182129</td>\n      <td>241.477600</td>\n      <td>0.746460</td>\n      <td>744.699219</td>\n      <td>247.033142</td>\n      <td>0.223315</td>\n      <td>147.513931</td>\n      <td>645.812317</td>\n      <td>0.916236</td>\n    </tr>\n    <tr>\n      <th>1</th>\n      <td>1</td>\n      <td>886.877686</td>\n      <td>179.513016</td>\n      <td>0.985991</td>\n      <td>890.484985</td>\n      <td>215.411072</td>\n      <td>0.979518</td>\n      <td>920.358032</td>\n      <td>197.145645</td>\n      <td>0.317466</td>\n      <td>...</td>\n      <td>0.182820</td>\n      <td>745.165283</td>\n      <td>241.356262</td>\n      <td>0.738251</td>\n      <td>846.483276</td>\n      <td>245.140518</td>\n      <td>0.369483</td>\n      <td>147.886169</td>\n      <td>645.762451</td>\n      <td>0.983647</td>\n    </tr>\n    <tr>\n      <th>2</th>\n      <td>2</td>\n      <td>885.649414</td>\n      <td>178.618469</td>\n      <td>0.982035</td>\n      <td>887.549133</td>\n      <td>215.091690</td>\n      <td>0.986159</td>\n      <td>916.476562</td>\n      <td>195.577881</td>\n      <td>0.405637</td>\n      <td>...</td>\n      <td>0.187516</td>\n      <td>744.992432</td>\n      <td>240.800903</td>\n      <td>0.681824</td>\n      <td>845.933472</td>\n      <td>244.349274</td>\n      <td>0.317031</td>\n      <td>580.401794</td>\n      <td>189.616333</td>\n      <td>0.925843</td>\n    </tr>\n    <tr>\n      <th>3</th>\n      <td>3</td>\n      <td>884.481445</td>\n      <td>177.026794</td>\n      <td>0.976316</td>\n      <td>888.802490</td>\n      <td>214.224792</td>\n      <td>0.976675</td>\n      <td>915.160583</td>\n      <td>193.669525</td>\n      <td>0.352473</td>\n      <td>...</td>\n      <td>0.194267</td>\n      <td>744.476501</td>\n      <td>241.184357</td>\n      <td>0.656566</td>\n      <td>745.870667</td>\n      <td>246.263428</td>\n      <td>0.328950</td>\n      <td>148.027283</td>\n      <td>646.064941</td>\n      <td>0.947428</td>\n    </tr>\n    <tr>\n      <th>4</th>\n      <td>4</td>\n      <td>885.166931</td>\n      <td>176.769638</td>\n      <td>0.935346</td>\n      <td>889.724365</td>\n      <td>214.664230</td>\n      <td>0.967430</td>\n      <td>916.552124</td>\n      <td>193.925995</td>\n      <td>0.355776</td>\n      <td>...</td>\n      <td>0.194050</td>\n      <td>744.740417</td>\n      <td>241.057846</td>\n      <td>0.642856</td>\n      <td>746.367920</td>\n      <td>246.345749</td>\n      <td>0.316978</td>\n      <td>147.701019</td>\n      <td>646.627747</td>\n      <td>0.912752</td>\n    </tr>\n    <tr>\n      <th>...</th>\n      <td>...</td>\n      <td>...</td>\n      <td>...</td>\n      <td>...</td>\n      <td>...</td>\n      <td>...</td>\n      <td>...</td>\n      <td>...</td>\n      <td>...</td>\n      <td>...</td>\n      <td>...</td>\n      <td>...</td>\n      <td>...</td>\n      <td>...</td>\n      <td>...</td>\n      <td>...</td>\n      <td>...</td>\n      <td>...</td>\n      <td>...</td>\n      <td>...</td>\n      <td>...</td>\n    </tr>\n    <tr>\n      <th>108386</th>\n      <td>108386</td>\n      <td>335.334198</td>\n      <td>146.807785</td>\n      <td>0.435226</td>\n      <td>340.275391</td>\n      <td>187.099548</td>\n      <td>0.971818</td>\n      <td>350.283569</td>\n      <td>154.567032</td>\n      <td>0.234330</td>\n      <td>...</td>\n      <td>0.020545</td>\n      <td>227.086166</td>\n      <td>213.409760</td>\n      <td>0.118458</td>\n      <td>227.803574</td>\n      <td>209.677170</td>\n      <td>0.138705</td>\n      <td>348.062225</td>\n      <td>140.442444</td>\n      <td>0.023635</td>\n    </tr>\n    <tr>\n      <th>108387</th>\n      <td>108387</td>\n      <td>336.246521</td>\n      <td>145.162872</td>\n      <td>0.275051</td>\n      <td>337.888153</td>\n      <td>184.479965</td>\n      <td>0.988278</td>\n      <td>348.331787</td>\n      <td>150.595139</td>\n      <td>0.439545</td>\n      <td>...</td>\n      <td>0.022424</td>\n      <td>288.949890</td>\n      <td>238.283981</td>\n      <td>0.219195</td>\n      <td>344.329041</td>\n      <td>150.660400</td>\n      <td>0.099847</td>\n      <td>349.965515</td>\n      <td>139.402405</td>\n      <td>0.022171</td>\n    </tr>\n    <tr>\n      <th>108388</th>\n      <td>108388</td>\n      <td>338.548920</td>\n      <td>177.263596</td>\n      <td>0.134843</td>\n      <td>341.579773</td>\n      <td>184.663635</td>\n      <td>0.970189</td>\n      <td>349.415070</td>\n      <td>150.568619</td>\n      <td>0.757976</td>\n      <td>...</td>\n      <td>0.014978</td>\n      <td>288.414520</td>\n      <td>239.446213</td>\n      <td>0.131241</td>\n      <td>343.996277</td>\n      <td>193.180176</td>\n      <td>0.059040</td>\n      <td>350.620758</td>\n      <td>141.145477</td>\n      <td>0.009133</td>\n    </tr>\n    <tr>\n      <th>108389</th>\n      <td>108389</td>\n      <td>337.164703</td>\n      <td>179.643127</td>\n      <td>0.034424</td>\n      <td>343.455658</td>\n      <td>187.656204</td>\n      <td>0.641647</td>\n      <td>351.065216</td>\n      <td>146.263184</td>\n      <td>0.468710</td>\n      <td>...</td>\n      <td>0.018504</td>\n      <td>291.234009</td>\n      <td>234.602829</td>\n      <td>0.058875</td>\n      <td>345.485931</td>\n      <td>193.470322</td>\n      <td>0.180335</td>\n      <td>348.026215</td>\n      <td>196.265137</td>\n      <td>0.004347</td>\n    </tr>\n    <tr>\n      <th>108390</th>\n      <td>108390</td>\n      <td>342.727753</td>\n      <td>143.132721</td>\n      <td>0.008397</td>\n      <td>344.986115</td>\n      <td>191.325928</td>\n      <td>0.004085</td>\n      <td>234.470322</td>\n      <td>207.573273</td>\n      <td>0.391418</td>\n      <td>...</td>\n      <td>0.030882</td>\n      <td>292.654755</td>\n      <td>235.130371</td>\n      <td>0.139460</td>\n      <td>342.962402</td>\n      <td>199.210938</td>\n      <td>0.378202</td>\n      <td>351.934845</td>\n      <td>136.391464</td>\n      <td>0.006099</td>\n    </tr>\n  </tbody>\n</table>\n<p>108391 rows × 40 columns</p>\n</div>"
     },
     "metadata": {},
     "execution_count": 8
    }
   ],
   "source": []
  },
  {
   "cell_type": "code",
   "execution_count": null,
   "metadata": {},
   "outputs": [],
   "source": []
  }
 ],
 "metadata": {
  "kernelspec": {
   "name": "pycharm-dd0c2ef1",
   "language": "python",
   "display_name": "PyCharm (behaviour-switching)"
  },
  "language_info": {
   "codemirror_mode": {
    "name": "ipython",
    "version": 2
   },
   "file_extension": ".py",
   "mimetype": "text/x-python",
   "name": "python",
   "nbconvert_exporter": "python",
   "pygments_lexer": "ipython2",
   "version": "2.7.6"
  }
 },
 "nbformat": 4,
 "nbformat_minor": 0
}