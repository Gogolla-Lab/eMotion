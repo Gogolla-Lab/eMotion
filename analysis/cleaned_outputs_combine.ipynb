{
 "cells": [
  {
   "cell_type": "code",
   "execution_count": 1,
   "metadata": {},
   "outputs": [],
   "source": [
    "import os\n",
    "import pandas as pd\n",
    "import matplotlib\n",
    "from tqdm import tqdm"
   ]
  },
  {
   "cell_type": "code",
   "execution_count": 2,
   "metadata": {
    "collapsed": false,
    "jupyter": {
     "outputs_hidden": false
    },
    "pycharm": {
     "name": "#%%\n"
    }
   },
   "outputs": [
    {
     "name": "stderr",
     "output_type": "stream",
     "text": [
      "100%|██████████| 143/143 [00:22<00:00,  6.33it/s]\n"
     ]
    },
    {
     "name": "stdout",
     "output_type": "stream",
     "text": [
      "ctrl5_day4_clean.csv excluded!\n",
      "hr9_day2_clean.csv excluded!\n"
     ]
    }
   ],
   "source": [
    "csv_folder = r'J:\\Alja Podgornik\\Multimaze arena\\Cohort 1_June 2020\\all_videos\\processed\\withROIs\\cleaned'\n",
    "\n",
    "if os.path.exists(os.path.join(csv_folder, 'combined.h5')):\n",
    "    print('combined.h5 found in', csv_folder, '\\nloading the data..')\n",
    "    df = pd.read_hdf(os.path.join(csv_folder, 'combined.h5'), key='combined')\n",
    "else:\n",
    "    # Prepare the ordered categorical data types\n",
    "    group_dtype = pd.CategoricalDtype(categories=['chr', 'ctrl', 'hr'], ordered=True)\n",
    "    zone_dtype = pd.CategoricalDtype(categories=['drinking', 'social', 'marble', 'nest',\n",
    "                                                 'eating', 'interzone', 'unclassified'], ordered=True)\n",
    "    period_dtype = pd.CategoricalDtype(categories=['q1', 'q2', 'q3', 'q4'], ordered=True)\n",
    "\n",
    "    dtypes = {'animal':'category', 'group':group_dtype, 'day':'category', 'zone':zone_dtype, 'bout_zone':zone_dtype,\n",
    "              'time':'float', 'period': period_dtype, 'opto':'bool', 'cum_dist_cm':'float', 'bout_duration':'float',\n",
    "              'bout_velocity':'float'}\n",
    "\n",
    "    exclude = ['ctrl5_day4_clean.csv', 'ctrl2_day1_clean.csv', 'chr9_day2_clean.csv',\n",
    "               'hr9_day2_clean.csv']\n",
    "    data = {}\n",
    "    for file in tqdm(os.listdir(csv_folder)):\n",
    "        if file not in exclude:\n",
    "            if file.endswith('_clean.csv'):\n",
    "                data[file] = pd.read_csv(os.path.join(csv_folder, file), index_col=0, dtype=dtypes)\n",
    "                if len(data[file]) < 100000:\n",
    "                    del data[file]\n",
    "        else:\n",
    "            print(file, 'excluded!')\n",
    "\n",
    "    df = pd.concat(data.values())\n",
    "    df.to_hdf(os.path.join(csv_folder, 'combined.h5'), key='combined', format='table')\n",
    "    df.to_csv(os.path.join(csv_folder, 'combined.csv'))"
   ]
  }
 ],
 "metadata": {
  "kernelspec": {
   "name": "conda-env-behaviour-switching-py",
   "language": "python",
   "display_name": "Python [conda env:behaviour-switching] *"
  },
  "language_info": {
   "codemirror_mode": {
    "name": "ipython",
    "version": 3
   },
   "file_extension": ".py",
   "mimetype": "text/x-python",
   "name": "python",
   "nbconvert_exporter": "python",
   "pygments_lexer": "ipython3",
   "version": "3.7.7"
  }
 },
 "nbformat": 4,
 "nbformat_minor": 4
}