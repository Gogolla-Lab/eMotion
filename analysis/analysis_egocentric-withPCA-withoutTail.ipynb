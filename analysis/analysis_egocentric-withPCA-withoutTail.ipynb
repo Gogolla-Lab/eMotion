{
 "cells": [
  {
   "cell_type": "code",
   "execution_count": 1,
   "metadata": {},
   "outputs": [],
   "source": [
    "import os\n",
    "import time\n",
    "import numpy as np\n",
    "import pandas as pd\n",
    "import matplotlib.pyplot as plt\n",
    "import seaborn as sns\n",
    "from scipy.spatial.transform import Rotation\n",
    "from tqdm import tqdm"
   ]
  },
  {
   "cell_type": "code",
   "execution_count": 2,
   "metadata": {},
   "outputs": [],
   "source": [
    "original_df = pd.read_hdf(r\"J:\\Alja Podgornik\\Multimaze arena\\Cohort 1_June 2020\\all_videos\\processed\\chr8_day3DLC_resnet152_dlc_realApr6shuffle4_110000.h5\")\n",
    "original_df.columns = original_df.columns.droplevel(0)\n",
    "main_df = pd.read_hdf(r\"J:\\Alja Podgornik\\Multimaze arena\\Cohort 1_June 2020\\all_videos\\processed\\chr8_day3DLC_resnet152_dlc_realApr6shuffle4_110000.h5\")\n",
    "main_df.columns = main_df.columns.droplevel(0)\n",
    "df = main_df\n",
    "# df.head()"
   ]
  },
  {
   "cell_type": "code",
   "execution_count": 3,
   "metadata": {},
   "outputs": [],
   "source": [
    "original_df = pd.read_hdf(r\"J:\\Alja Podgornik\\Multimaze arena\\Cohort 1_June 2020\\all_videos\\processed\\chr8_day3DLC_resnet152_dlc_realApr6shuffle4_110000.h5\")\n",
    "original_df.columns = original_df.columns.droplevel(0)\n",
    "# original_df"
   ]
  },
  {
   "cell_type": "code",
   "execution_count": 4,
   "metadata": {},
   "outputs": [],
   "source": [
    "# pd.options.mode.chained_assignment = None  # default='warn'\n",
    "\n",
    "center = df['center']\n",
    "\n",
    "for bodypart in df.columns.levels[0]:\n",
    "    for axis in df.columns.levels[1][1:]:\n",
    "        df.loc[:, (bodypart, axis)] = df.loc[:, (bodypart, axis)] - center.loc[:, axis]\n",
    "        \n",
    "# df"
   ]
  },
  {
   "cell_type": "code",
   "execution_count": 5,
   "metadata": {},
   "outputs": [
    {
     "name": "stderr",
     "output_type": "stream",
     "text": [
      "100%|████████████████████████████████████████████████████████████████████████████████████████████████| 13/13 [00:01<00:00,  9.03it/s]\n"
     ]
    }
   ],
   "source": [
    "rotated = pd.DataFrame(index=df.index, columns=df.columns)\n",
    "angles = np.arctan2(df[('tail_base', 'y')], df['tail_base', 'x'])\n",
    "# angles = np.where(angles<0, angles+2*np.pi, angles)\n",
    "\n",
    "for bodypart in tqdm(df.columns.levels[0]):\n",
    "    bp_df = df.loc[:, bodypart]\n",
    "    bp_x = bp_df['x']\n",
    "    bp_y = bp_df['y']\n",
    "    bp_likelihood = bp_df['likelihood']\n",
    "    cos = np.cos(angles)\n",
    "    sin = np.sin(angles)\n",
    "    for axis in bp_df.columns:\n",
    "        if axis == 'x':\n",
    "            rotated.loc[:, (bodypart, axis)] = (bp_x * cos) + (bp_y * sin)\n",
    "        elif axis == 'y':\n",
    "            rotated.loc[:, (bodypart, axis)] = (bp_y * cos) - (bp_x * sin)\n",
    "        elif axis == 'likelihood':\n",
    "            rotated.loc[:, (bodypart, axis)] = bp_likelihood\n",
    "\n",
    "rotated\n",
    "df = rotated"
   ]
  },
  {
   "cell_type": "code",
   "execution_count": 6,
   "metadata": {},
   "outputs": [],
   "source": [
    "df = df.drop(columns=['paw_f_left', 'paw_f_right', 'paw_h_left', 'paw_h_right', 'tail_tip', 'tail_mid'], level=0)"
   ]
  },
  {
   "cell_type": "code",
   "execution_count": 7,
   "metadata": {},
   "outputs": [],
   "source": [
    "high_likelihood = df.loc[:, df.columns.get_level_values(1) == 'likelihood'] > 0.7\n",
    "high_likelihood = df.loc[high_likelihood.all(axis=1), :]\n",
    "high_likelihood = high_likelihood.drop(columns='likelihood', level=1)"
   ]
  },
  {
   "cell_type": "code",
   "execution_count": 8,
   "metadata": {},
   "outputs": [
    {
     "name": "stdout",
     "output_type": "stream",
     "text": [
      "14412\n"
     ]
    }
   ],
   "source": [
    "print(len(high_likelihood))"
   ]
  },
  {
   "cell_type": "code",
   "execution_count": 9,
   "metadata": {},
   "outputs": [],
   "source": [
    "skeleton = [['snout', 'left_ear'], ['snout', 'right_ear'], ['right_ear', 'left_ear'], ['left_ear', 'left_side'],\n",
    "           ['right_ear', 'right_side'], ['right_side', 'tail_base'], ['left_side', 'tail_base'], ['center', 'left_ear'],\n",
    "            ['center', 'right_ear'], ['center', 'right_side'], ['left_side', 'center'], ['tail_base', 'center']]"
   ]
  },
  {
   "cell_type": "code",
   "execution_count": 10,
   "metadata": {},
   "outputs": [],
   "source": [
    "def plotter(to_plot, skeleton, indexes, plot_original_df=False, original_df=None, lim_min=-800, lim_max=800, limits=True):\n",
    "    plt.figure(figsize=(32,32))\n",
    "    indexcounter=1\n",
    "    for i in indexes:\n",
    "        \n",
    "        plt.subplot(4,4,indexcounter)\n",
    "        \n",
    "        for bp in df.columns.get_level_values(0):\n",
    "            \n",
    "            plt.scatter(x=to_plot.loc[i, (bp, 'x')], y=to_plot.loc[i, (bp, 'y')], cmap='jet', )\n",
    "            if plot_original_df:\n",
    "                plt.scatter(x=original_df.loc[i, (bp, 'x')], y=original_df.loc[i, (bp, 'y')], cmap='jet', marker='*')\n",
    "        \n",
    "        for bp_pair in skeleton:\n",
    "            \n",
    "            plt.plot([to_plot.loc[i, (bp_pair[0], 'x')], to_plot.loc[i, (bp_pair[1], 'x')]],\n",
    "                    [to_plot.loc[i, (bp_pair[0], 'y')], to_plot.loc[i, (bp_pair[1], 'y')]],\n",
    "                    color = 'k', linestyle='-', linewidth=1)\n",
    "            if plot_original_df:\n",
    "                plt.plot([original_df.loc[i, (bp_pair[0], 'x')], original_df.loc[i, (bp_pair[1], 'x')]],\n",
    "                    [original_df.loc[i, (bp_pair[0], 'y')], original_df.loc[i, (bp_pair[1], 'y')]],\n",
    "                    color = 'k', linestyle='-', linewidth=1)\n",
    "\n",
    "        indexcounter +=1\n",
    "        if limits:\n",
    "            plt.xlim(lim_min, lim_max)\n",
    "            plt.ylim(lim_min, lim_max)\n",
    "        plt.title('index:' + str(i), fontsize=18)\n",
    "    \n",
    "    plt.tight_layout()\n",
    "    plt.show()"
   ]
  },
  {
   "cell_type": "code",
   "execution_count": 11,
   "metadata": {},
   "outputs": [
    {
     "data": {
      "text/plain": [
       "<matplotlib.axes._subplots.AxesSubplot at 0x167d690af88>"
      ]
     },
     "execution_count": 11,
     "metadata": {},
     "output_type": "execute_result"
    },
    {
     "data": {
      "image/png": "[encoded data removed]",
      "text/plain": [
       "<Figure size 432x288 with 1 Axes>"
      ]
     },
     "metadata": {
      "needs_background": "light"
     },
     "output_type": "display_data"
    }
   ],
   "source": [
    "from sklearn.decomposition import PCA\n",
    "\n",
    "pca = PCA(whiten=True, svd_solver='full')\n",
    "\n",
    "pca_transformed = pca.fit_transform(high_likelihood)\n",
    "\n",
    "expVar = pd.DataFrame(data=pca.explained_variance_ratio_, columns=['explained variance ratio'])\n",
    "expVar\n",
    "sns.barplot(data=expVar, y='explained variance ratio', x=list(range(1, len(expVar)+1)))"
   ]
  },
  {
   "cell_type": "code",
   "execution_count": 236,
   "metadata": {},
   "outputs": [
    {
     "data": {
      "text/html": [
       "<div>\n",
       "<style scoped>\n",
       "    .dataframe tbody tr th:only-of-type {\n",
       "        vertical-align: middle;\n",
       "    }\n",
       "\n",
       "    .dataframe tbody tr th {\n",
       "        vertical-align: top;\n",
       "    }\n",
       "\n",
       "    .dataframe thead th {\n",
       "        text-align: right;\n",
       "    }\n",
       "</style>\n",
       "<table border=\"1\" class=\"dataframe\">\n",
       "  <thead>\n",
       "    <tr style=\"text-align: right;\">\n",
       "      <th></th>\n",
       "      <th>1</th>\n",
       "      <th>2</th>\n",
       "      <th>3</th>\n",
       "      <th>4</th>\n",
       "      <th>5</th>\n",
       "      <th>6</th>\n",
       "      <th>7</th>\n",
       "    </tr>\n",
       "  </thead>\n",
       "  <tbody>\n",
       "    <tr>\n",
       "      <th>7</th>\n",
       "      <td>1.822378</td>\n",
       "      <td>1.645462</td>\n",
       "      <td>1.145441</td>\n",
       "      <td>-0.179554</td>\n",
       "      <td>0.697972</td>\n",
       "      <td>-0.142307</td>\n",
       "      <td>-1.279971</td>\n",
       "    </tr>\n",
       "    <tr>\n",
       "      <th>8</th>\n",
       "      <td>1.740749</td>\n",
       "      <td>1.573039</td>\n",
       "      <td>0.937400</td>\n",
       "      <td>-0.322892</td>\n",
       "      <td>0.375433</td>\n",
       "      <td>-0.136642</td>\n",
       "      <td>-0.655784</td>\n",
       "    </tr>\n",
       "    <tr>\n",
       "      <th>9</th>\n",
       "      <td>1.752322</td>\n",
       "      <td>1.554453</td>\n",
       "      <td>0.924272</td>\n",
       "      <td>-0.146593</td>\n",
       "      <td>0.168826</td>\n",
       "      <td>-0.139320</td>\n",
       "      <td>-0.675941</td>\n",
       "    </tr>\n",
       "    <tr>\n",
       "      <th>10</th>\n",
       "      <td>1.922642</td>\n",
       "      <td>1.724589</td>\n",
       "      <td>0.992998</td>\n",
       "      <td>0.328305</td>\n",
       "      <td>-0.019240</td>\n",
       "      <td>0.175652</td>\n",
       "      <td>-1.241070</td>\n",
       "    </tr>\n",
       "    <tr>\n",
       "      <th>11</th>\n",
       "      <td>1.930704</td>\n",
       "      <td>1.643186</td>\n",
       "      <td>0.828839</td>\n",
       "      <td>0.535743</td>\n",
       "      <td>-0.096769</td>\n",
       "      <td>0.032711</td>\n",
       "      <td>-1.526981</td>\n",
       "    </tr>\n",
       "    <tr>\n",
       "      <th>...</th>\n",
       "      <td>...</td>\n",
       "      <td>...</td>\n",
       "      <td>...</td>\n",
       "      <td>...</td>\n",
       "      <td>...</td>\n",
       "      <td>...</td>\n",
       "      <td>...</td>\n",
       "    </tr>\n",
       "    <tr>\n",
       "      <th>101268</th>\n",
       "      <td>2.435143</td>\n",
       "      <td>2.228671</td>\n",
       "      <td>0.664034</td>\n",
       "      <td>1.010988</td>\n",
       "      <td>-2.413867</td>\n",
       "      <td>-1.189614</td>\n",
       "      <td>2.399481</td>\n",
       "    </tr>\n",
       "    <tr>\n",
       "      <th>101403</th>\n",
       "      <td>1.766829</td>\n",
       "      <td>1.311989</td>\n",
       "      <td>-0.429341</td>\n",
       "      <td>0.095778</td>\n",
       "      <td>-2.280683</td>\n",
       "      <td>-1.339297</td>\n",
       "      <td>0.792624</td>\n",
       "    </tr>\n",
       "    <tr>\n",
       "      <th>101475</th>\n",
       "      <td>2.249084</td>\n",
       "      <td>2.869714</td>\n",
       "      <td>-0.511628</td>\n",
       "      <td>1.772242</td>\n",
       "      <td>-2.363101</td>\n",
       "      <td>-0.460839</td>\n",
       "      <td>0.523001</td>\n",
       "    </tr>\n",
       "    <tr>\n",
       "      <th>101490</th>\n",
       "      <td>-1.532820</td>\n",
       "      <td>1.080712</td>\n",
       "      <td>-0.641443</td>\n",
       "      <td>0.107450</td>\n",
       "      <td>1.423519</td>\n",
       "      <td>-0.510751</td>\n",
       "      <td>0.099956</td>\n",
       "    </tr>\n",
       "    <tr>\n",
       "      <th>101575</th>\n",
       "      <td>1.933464</td>\n",
       "      <td>1.567139</td>\n",
       "      <td>-0.515415</td>\n",
       "      <td>-0.444007</td>\n",
       "      <td>-1.859881</td>\n",
       "      <td>-0.879490</td>\n",
       "      <td>-0.336399</td>\n",
       "    </tr>\n",
       "  </tbody>\n",
       "</table>\n",
       "<p>14412 rows × 7 columns</p>\n",
       "</div>"
      ],
      "text/plain": [
       "               1         2         3         4         5         6         7\n",
       "7       1.822378  1.645462  1.145441 -0.179554  0.697972 -0.142307 -1.279971\n",
       "8       1.740749  1.573039  0.937400 -0.322892  0.375433 -0.136642 -0.655784\n",
       "9       1.752322  1.554453  0.924272 -0.146593  0.168826 -0.139320 -0.675941\n",
       "10      1.922642  1.724589  0.992998  0.328305 -0.019240  0.175652 -1.241070\n",
       "11      1.930704  1.643186  0.828839  0.535743 -0.096769  0.032711 -1.526981\n",
       "...          ...       ...       ...       ...       ...       ...       ...\n",
       "101268  2.435143  2.228671  0.664034  1.010988 -2.413867 -1.189614  2.399481\n",
       "101403  1.766829  1.311989 -0.429341  0.095778 -2.280683 -1.339297  0.792624\n",
       "101475  2.249084  2.869714 -0.511628  1.772242 -2.363101 -0.460839  0.523001\n",
       "101490 -1.532820  1.080712 -0.641443  0.107450  1.423519 -0.510751  0.099956\n",
       "101575  1.933464  1.567139 -0.515415 -0.444007 -1.859881 -0.879490 -0.336399\n",
       "\n",
       "[14412 rows x 7 columns]"
      ]
     },
     "execution_count": 236,
     "metadata": {},
     "output_type": "execute_result"
    }
   ],
   "source": [
    "pca_transformed_df = pd.DataFrame(data=pca_transformed, columns=list(range(1, len(expVar)+1)),\n",
    "                               index=high_likelihood.index)\n",
    "pca_transformed_df = pca_transformed_df.iloc[:, :7]\n",
    "pca_transformed_df"
   ]
  },
  {
   "cell_type": "code",
   "execution_count": null,
   "metadata": {},
   "outputs": [
    {
     "name": "stdout",
     "output_type": "stream",
     "text": [
      "[t-SNE] Computing 106 nearest neighbors...\n",
      "[t-SNE] Indexed 14412 samples in 0.023s...\n",
      "[t-SNE] Computed neighbors for 14412 samples in 1.349s...\n",
      "[t-SNE] Computed conditional probabilities for sample 1000 / 14412\n",
      "[t-SNE] Computed conditional probabilities for sample 2000 / 14412\n",
      "[t-SNE] Computed conditional probabilities for sample 3000 / 14412\n",
      "[t-SNE] Computed conditional probabilities for sample 4000 / 14412\n",
      "[t-SNE] Computed conditional probabilities for sample 5000 / 14412\n",
      "[t-SNE] Computed conditional probabilities for sample 6000 / 14412\n",
      "[t-SNE] Computed conditional probabilities for sample 7000 / 14412\n",
      "[t-SNE] Computed conditional probabilities for sample 8000 / 14412\n",
      "[t-SNE] Computed conditional probabilities for sample 9000 / 14412\n",
      "[t-SNE] Computed conditional probabilities for sample 10000 / 14412\n",
      "[t-SNE] Computed conditional probabilities for sample 11000 / 14412\n",
      "[t-SNE] Computed conditional probabilities for sample 12000 / 14412\n",
      "[t-SNE] Computed conditional probabilities for sample 13000 / 14412\n",
      "[t-SNE] Computed conditional probabilities for sample 14000 / 14412\n",
      "[t-SNE] Computed conditional probabilities for sample 14412 / 14412\n",
      "[t-SNE] Mean sigma: 0.396287\n",
      "[t-SNE] KL divergence after 250 iterations with early exaggeration: 88.993164\n"
     ]
    }
   ],
   "source": [
    "from sklearn.manifold import TSNE\n",
    "\n",
    "tsne = TSNE(n_components=2, perplexity=35, n_iter=25000, n_iter_without_progress=500, init='random', n_jobs=-1,\n",
    "           verbose=1)\n",
    "\n",
    "start_time = time.time()\n",
    "transformed = tsne.fit_transform(pca_transformed_df)\n",
    "print(\"tsne fitted in --- %s seconds ---\" % (time.time() - start_time))\n",
    "\n",
    "transformed = pd.DataFrame(transformed, columns=['x','y'], index=pca_transformed_df.index)\n",
    "sns.scatterplot(data=transformed, x='x', y='y')"
   ]
  },
  {
   "cell_type": "code",
   "execution_count": null,
   "metadata": {},
   "outputs": [],
   "source": [
    "print(\"tsne fitted in --- %s seconds ---\" % (time.time() - start_time))\n",
    "print(\"tsne fitted in --- %s seconds ---\" % (time.time() - start_time))\n",
    "print(\"tsne fitted in --- %s seconds ---\" % (time.time() - start_time))\n",
    "print(\"tsne fitted in --- %s seconds ---\" % (time.time() - start_time))\n",
    "print(\"tsne fitted in --- %s seconds ---\" % (time.time() - start_time))\n",
    "print(\"tsne fitted in --- %s seconds ---\" % (time.time() - start_time))"
   ]
  },
  {
   "cell_type": "code",
   "execution_count": null,
   "metadata": {},
   "outputs": [],
   "source": [
    "from sklearn.neighbors import KernelDensity"
   ]
  },
  {
   "cell_type": "code",
   "execution_count": null,
   "metadata": {},
   "outputs": [],
   "source": [
    "kde = KernelDensity(kernel='gaussian', bandwidth=15)\n",
    "start_time = time.time()\n",
    "kde.fit(transformed)\n",
    "print(\"fitted in --- %s seconds ---\" % (time.time() - start_time))\n",
    "\n",
    "start_time = time.time()\n",
    "scores = kde.score_samples(transformed)\n",
    "print(\"scored in --- %s seconds ---\" % (time.time() - start_time))\n",
    "# transformed['score'] = np.exp(scores)"
   ]
  },
  {
   "cell_type": "code",
   "execution_count": null,
   "metadata": {},
   "outputs": [],
   "source": [
    "x = np.linspace(transformed['x'].min(), transformed['x'].max(), 100)\n",
    "y = np.linspace(transformed['y'].min(), transformed['y'].max(), 100)\n",
    "X, Y = np.meshgrid(x, y)\n",
    "\n",
    "xy = np.vstack([X.ravel(), Y.ravel()]).T\n",
    "\n",
    "Z = np.exp(kde.score_samples(xy))\n",
    "Z = Z.reshape(X.shape)"
   ]
  },
  {
   "cell_type": "code",
   "execution_count": null,
   "metadata": {},
   "outputs": [],
   "source": [
    "plt.figure()\n",
    "plt.contourf(X, Y, Z, 12, cmap='afmhot_r')\n",
    "plt.colorbar()"
   ]
  },
  {
   "cell_type": "code",
   "execution_count": null,
   "metadata": {},
   "outputs": [],
   "source": [
    "from ipywidgets import interact\n",
    "import pims\n",
    "\n",
    "path_video = r\"J:\\Alja Podgornik\\Multimaze arena\\Cohort 1_June 2020\\all_videos\\processed\\chr8_day3.mp4\"\n",
    "video = pims.Video(path_video)"
   ]
  },
  {
   "cell_type": "code",
   "execution_count": null,
   "metadata": {
    "scrolled": false
   },
   "outputs": [],
   "source": [
    "@interact\n",
    "def checkRegion(xmin:(X.min(), X.max()), xmax:(X.min(), X.max()), ymin:(Y.min(), Y.max()), ymax:(Y.min(), Y.max()), lev:(0,30)):\n",
    "    plt.contourf(X, Y, Z, lev, cmap='afmhot_r')\n",
    "    plt.colorbar()\n",
    "    plt.axhline(ymin)\n",
    "    plt.axhline(ymax)\n",
    "    plt.axvline(xmin)\n",
    "    plt.axvline(xmax)\n",
    "    print(\"ymin, ymax, xmin, xmax =\", (ymin, ymax, xmin, xmax))"
   ]
  },
  {
   "cell_type": "code",
   "execution_count": null,
   "metadata": {},
   "outputs": [],
   "source": [
    "# ymin, ymax, xmin, xmax = (87.35338, 96.75338, -45.3079, -29.9079)\n",
    "\n",
    "# x_filtered = transformed[(transformed['x'] > xmin) & (transformed['x'] < xmax)]\n",
    "# y_filtered = x_filtered[(x_filtered['y'] > ymin) & (x_filtered['y'] < ymax)]\n",
    "# filtered_subset = y_filtered.sample(16)\n",
    "# print(filtered_subset.index)\n",
    "# plotter(high_likelihood, skeleton, filtered_subset.index, lim_min=-150, lim_max=150)"
   ]
  },
  {
   "cell_type": "code",
   "execution_count": null,
   "metadata": {},
   "outputs": [],
   "source": [
    "# folder = r\"C:\\Users\\serce\\Desktop\\inspect\"\n",
    "# region = 'region5'\n",
    "\n",
    "# for frame_no in filtered_subset.index[:4]:\n",
    "#     frame = video[frame_no]\n",
    "#     plt.imsave(os.path.join(folder, region, str(frame_no) + '.png'), arr=frame)"
   ]
  },
  {
   "cell_type": "code",
   "execution_count": null,
   "metadata": {},
   "outputs": [],
   "source": [
    "from skimage.filters import threshold_otsu\n",
    "from scipy import ndimage as ndi\n",
    "from skimage.segmentation import watershed\n",
    "from skimage.feature import peak_local_max\n",
    "\n",
    "image=Z\n",
    "thresh = threshold_otsu(image)\n",
    "binary = image > thresh\n",
    "\n",
    "image=binary\n",
    "\n",
    "distance = ndi.distance_transform_edt(image)\n",
    "local_maxi = peak_local_max(distance, indices=False,\n",
    "                            labels=image)\n",
    "\n",
    "markers = ndi.label(local_maxi)[0]\n",
    "labels = watershed(-distance, markers, mask=image, watershed_line=True)\n",
    "\n",
    "plt.figure()\n",
    "plt.imshow(np.flipud(labels), cmap='cubehelix_r')\n",
    "plt.colorbar()\n",
    "labels.shape"
   ]
  },
  {
   "cell_type": "markdown",
   "metadata": {},
   "source": [
    "reshape labels?"
   ]
  },
  {
   "cell_type": "code",
   "execution_count": 134,
   "metadata": {},
   "outputs": [
    {
     "data": {
      "text/plain": [
       "array([[0, 0, 0, ..., 0, 0, 0],\n",
       "       [0, 0, 0, ..., 0, 0, 0],\n",
       "       [0, 0, 0, ..., 0, 0, 0],\n",
       "       ...,\n",
       "       [0, 0, 0, ..., 0, 0, 0],\n",
       "       [0, 0, 0, ..., 0, 0, 0],\n",
       "       [0, 0, 0, ..., 0, 0, 0]])"
      ]
     },
     "execution_count": 134,
     "metadata": {},
     "output_type": "execute_result"
    }
   ],
   "source": [
    "Z.reshape(-1).shape"
   ]
  },
  {
   "cell_type": "code",
   "execution_count": null,
   "metadata": {},
   "outputs": [],
   "source": [
    "import pims\n",
    "vid = pims.Video(r\"J:\\Alja Podgornik\\Multimaze arena\\Cohort 1_June 2020\\all_videos\\processed\\chr8_day3.mp4\")\n",
    "frames = []\n",
    "for index in filtered_subset.index:\n",
    "    frames.append(vid[index])\n",
    "    \n",
    "outputfolder = r\"C:\\Users\\serce\\Desktop\\inspect\"\n",
    "\n",
    "for n, frame in enumerate(frames):\n",
    "    plt.imsave(r\"C:\\Users\\serce\\Desktop\\inspect\" + \"\\\\\" + str(n) + \".png\", frame)"
   ]
  },
  {
   "cell_type": "code",
   "execution_count": null,
   "metadata": {},
   "outputs": [],
   "source": []
  },
  {
   "cell_type": "code",
   "execution_count": null,
   "metadata": {},
   "outputs": [],
   "source": [
    "print(original_df.iloc[39631])"
   ]
  },
  {
   "cell_type": "code",
   "execution_count": null,
   "metadata": {},
   "outputs": [],
   "source": [
    "plt.imshow(Z)\n",
    "plt.colorbar()"
   ]
  },
  {
   "cell_type": "markdown",
   "metadata": {},
   "source": [
    "----------------------------------------"
   ]
  },
  {
   "cell_type": "code",
   "execution_count": null,
   "metadata": {},
   "outputs": [],
   "source": [
    "from sklearn.cluster import KMeans\n",
    "\n",
    "km = KMeans(n_clusters=30, init='k-means++', n_init=30, max_iter=3000, tol=0.0001, algorithm='auto')\n",
    "transformed_km = km.fit_transform(subset)"
   ]
  },
  {
   "cell_type": "code",
   "execution_count": null,
   "metadata": {},
   "outputs": [],
   "source": [
    "sns.scatterplot(data=transformed, x='x', y='y', hue=km.labels_)"
   ]
  },
  {
   "cell_type": "code",
   "execution_count": null,
   "metadata": {},
   "outputs": [],
   "source": [
    "from sklearn.decomposition import PCA\n",
    "\n",
    "pca = PCA(whiten=True, svd_solver='full')\n",
    "\n",
    "pca_transformed = pca.fit_transform(subset)\n",
    "\n",
    "expVar = pd.DataFrame(data=pca.explained_variance_ratio_, columns=['explained variance ratio'])\n",
    "expVar\n",
    "sns.barplot(data=expVar, y='explained variance ratio', x=list(range(1,40)))"
   ]
  },
  {
   "cell_type": "code",
   "execution_count": null,
   "metadata": {},
   "outputs": [],
   "source": [
    "sns.scatterplot(x=pca_transformed[:, 0], y=pca_transformed[:, 1], hue=km.labels_)"
   ]
  },
  {
   "cell_type": "code",
   "execution_count": null,
   "metadata": {},
   "outputs": [],
   "source": [
    "#index = transformed[transformed['y'] < 28].index\n",
    "\n",
    "#to_plot = df.iloc[index, :]\n",
    "\n",
    "#plotter(subset, skeleton, to_plot.index[:16])"
   ]
  },
  {
   "cell_type": "code",
   "execution_count": null,
   "metadata": {},
   "outputs": [],
   "source": [
    "pca_transformed.shape"
   ]
  }
 ],
 "metadata": {
  "kernelspec": {
   "display_name": "Python 3",
   "language": "python",
   "name": "python3"
  },
  "language_info": {
   "codemirror_mode": {
    "name": "ipython",
    "version": 3
   },
   "file_extension": ".py",
   "mimetype": "text/x-python",
   "name": "python",
   "nbconvert_exporter": "python",
   "pygments_lexer": "ipython3",
   "version": "3.7.7"
  }
 },
 "nbformat": 4,
 "nbformat_minor": 4
}
