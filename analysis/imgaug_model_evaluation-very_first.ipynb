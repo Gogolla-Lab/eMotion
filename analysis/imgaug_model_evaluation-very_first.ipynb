{
 "cells": [
  {
   "cell_type": "code",
   "execution_count": 1,
   "metadata": {},
   "outputs": [],
   "source": [
    "import numpy as np\n",
    "import pandas as pd\n",
    "import matplotlib.pyplot as plt\n",
    "import seaborn as sns\n",
    "import os"
   ]
  },
  {
   "cell_type": "code",
   "execution_count": 2,
   "metadata": {
    "scrolled": false
   },
   "outputs": [
    {
     "name": "stdout",
     "output_type": "stream",
     "text": [
      "appending DLC_resnet50_dlc_realApr6shuffle2_250000-results.csv\n"
     ]
    },
    {
     "data": {
      "text/html": [
       "<div>\n",
       "<style scoped>\n",
       "    .dataframe tbody tr th:only-of-type {\n",
       "        vertical-align: middle;\n",
       "    }\n",
       "\n",
       "    .dataframe tbody tr th {\n",
       "        vertical-align: top;\n",
       "    }\n",
       "\n",
       "    .dataframe thead th {\n",
       "        text-align: right;\n",
       "    }\n",
       "</style>\n",
       "<table border=\"1\" class=\"dataframe\">\n",
       "  <thead>\n",
       "    <tr style=\"text-align: right;\">\n",
       "      <th></th>\n",
       "      <th>Training iterations:</th>\n",
       "      <th>%Training dataset</th>\n",
       "      <th>Shuffle number</th>\n",
       "      <th>Train error(px)</th>\n",
       "      <th>Test error(px)</th>\n",
       "      <th>p-cutoff used</th>\n",
       "      <th>Train error with p-cutoff</th>\n",
       "      <th>Test error with p-cutoff</th>\n",
       "      <th>model</th>\n",
       "    </tr>\n",
       "  </thead>\n",
       "  <tbody>\n",
       "    <tr>\n",
       "      <th>4</th>\n",
       "      <td>250000</td>\n",
       "      <td>90</td>\n",
       "      <td>2</td>\n",
       "      <td>20.87</td>\n",
       "      <td>16.53</td>\n",
       "      <td>0.85</td>\n",
       "      <td>7.22</td>\n",
       "      <td>6.61</td>\n",
       "      <td>resnet50</td>\n",
       "    </tr>\n",
       "    <tr>\n",
       "      <th>3</th>\n",
       "      <td>200000</td>\n",
       "      <td>90</td>\n",
       "      <td>2</td>\n",
       "      <td>20.60</td>\n",
       "      <td>16.58</td>\n",
       "      <td>0.85</td>\n",
       "      <td>7.07</td>\n",
       "      <td>6.62</td>\n",
       "      <td>resnet50</td>\n",
       "    </tr>\n",
       "    <tr>\n",
       "      <th>2</th>\n",
       "      <td>150000</td>\n",
       "      <td>90</td>\n",
       "      <td>2</td>\n",
       "      <td>21.08</td>\n",
       "      <td>16.58</td>\n",
       "      <td>0.85</td>\n",
       "      <td>7.06</td>\n",
       "      <td>6.64</td>\n",
       "      <td>resnet50</td>\n",
       "    </tr>\n",
       "    <tr>\n",
       "      <th>1</th>\n",
       "      <td>100000</td>\n",
       "      <td>90</td>\n",
       "      <td>2</td>\n",
       "      <td>22.34</td>\n",
       "      <td>16.48</td>\n",
       "      <td>0.85</td>\n",
       "      <td>7.83</td>\n",
       "      <td>6.66</td>\n",
       "      <td>resnet50</td>\n",
       "    </tr>\n",
       "  </tbody>\n",
       "</table>\n",
       "</div>"
      ],
      "text/plain": [
       "   Training iterations:  %Training dataset  Shuffle number   Train error(px)  \\\n",
       "4                250000                 90               2             20.87   \n",
       "3                200000                 90               2             20.60   \n",
       "2                150000                 90               2             21.08   \n",
       "1                100000                 90               2             22.34   \n",
       "\n",
       "    Test error(px)  p-cutoff used  Train error with p-cutoff  \\\n",
       "4            16.53           0.85                       7.22   \n",
       "3            16.58           0.85                       7.07   \n",
       "2            16.58           0.85                       7.06   \n",
       "1            16.48           0.85                       7.83   \n",
       "\n",
       "   Test error with p-cutoff     model  \n",
       "4                      6.61  resnet50  \n",
       "3                      6.62  resnet50  \n",
       "2                      6.64  resnet50  \n",
       "1                      6.66  resnet50  "
      ]
     },
     "execution_count": 2,
     "metadata": {},
     "output_type": "execute_result"
    }
   ],
   "source": [
    "csv_folder = \"/Users/onurserce/Desktop/\"\n",
    "\n",
    "dataframes = []\n",
    "\n",
    "for file in os.listdir(csv_folder):\n",
    "    if file.endswith(\".csv\"):\n",
    "        print(\"appending\", file)\n",
    "        file_df = pd.read_csv(csv_folder+file, index_col=0)\n",
    "        file_df[\"model\"] = file.split(\"_\")[1]\n",
    "        if \"200000\" not in file:\n",
    "            dataframes.append(file_df)\n",
    "        \n",
    "df = pd.concat(dataframes, axis=0, ignore_index=True)\n",
    "\n",
    "#df = df.sort_values(by=\" Test error(px)\", ascending=True)\n",
    "df = df.sort_values(by=\"Test error with p-cutoff\", ascending=True)\n",
    "df = df[(df[\"Training iterations:\"] != 50000) & (df[\"Training iterations:\"] != 201000)]\n",
    "\n",
    "df.head(10)"
   ]
  },
  {
   "cell_type": "code",
   "execution_count": 3,
   "metadata": {
    "scrolled": false
   },
   "outputs": [
    {
     "data": {
      "text/html": [
       "<div>\n",
       "<style scoped>\n",
       "    .dataframe tbody tr th:only-of-type {\n",
       "        vertical-align: middle;\n",
       "    }\n",
       "\n",
       "    .dataframe tbody tr th {\n",
       "        vertical-align: top;\n",
       "    }\n",
       "\n",
       "    .dataframe thead tr th {\n",
       "        text-align: left;\n",
       "    }\n",
       "\n",
       "    .dataframe thead tr:last-of-type th {\n",
       "        text-align: right;\n",
       "    }\n",
       "</style>\n",
       "<table border=\"1\" class=\"dataframe\">\n",
       "  <thead>\n",
       "    <tr>\n",
       "      <th></th>\n",
       "      <th></th>\n",
       "      <th colspan=\"8\" halign=\"left\">Test error(px)</th>\n",
       "      <th colspan=\"8\" halign=\"left\">Test error with p-cutoff</th>\n",
       "    </tr>\n",
       "    <tr>\n",
       "      <th></th>\n",
       "      <th></th>\n",
       "      <th>count</th>\n",
       "      <th>mean</th>\n",
       "      <th>std</th>\n",
       "      <th>min</th>\n",
       "      <th>25%</th>\n",
       "      <th>50%</th>\n",
       "      <th>75%</th>\n",
       "      <th>max</th>\n",
       "      <th>count</th>\n",
       "      <th>mean</th>\n",
       "      <th>std</th>\n",
       "      <th>min</th>\n",
       "      <th>25%</th>\n",
       "      <th>50%</th>\n",
       "      <th>75%</th>\n",
       "      <th>max</th>\n",
       "    </tr>\n",
       "    <tr>\n",
       "      <th>Shuffle number</th>\n",
       "      <th>Training iterations:</th>\n",
       "      <th></th>\n",
       "      <th></th>\n",
       "      <th></th>\n",
       "      <th></th>\n",
       "      <th></th>\n",
       "      <th></th>\n",
       "      <th></th>\n",
       "      <th></th>\n",
       "      <th></th>\n",
       "      <th></th>\n",
       "      <th></th>\n",
       "      <th></th>\n",
       "      <th></th>\n",
       "      <th></th>\n",
       "      <th></th>\n",
       "      <th></th>\n",
       "    </tr>\n",
       "  </thead>\n",
       "  <tbody>\n",
       "    <tr>\n",
       "      <th rowspan=\"4\" valign=\"top\">2</th>\n",
       "      <th>100000</th>\n",
       "      <td>1.0</td>\n",
       "      <td>16.48</td>\n",
       "      <td>NaN</td>\n",
       "      <td>16.48</td>\n",
       "      <td>16.48</td>\n",
       "      <td>16.48</td>\n",
       "      <td>16.48</td>\n",
       "      <td>16.48</td>\n",
       "      <td>1.0</td>\n",
       "      <td>6.66</td>\n",
       "      <td>NaN</td>\n",
       "      <td>6.66</td>\n",
       "      <td>6.66</td>\n",
       "      <td>6.66</td>\n",
       "      <td>6.66</td>\n",
       "      <td>6.66</td>\n",
       "    </tr>\n",
       "    <tr>\n",
       "      <th>150000</th>\n",
       "      <td>1.0</td>\n",
       "      <td>16.58</td>\n",
       "      <td>NaN</td>\n",
       "      <td>16.58</td>\n",
       "      <td>16.58</td>\n",
       "      <td>16.58</td>\n",
       "      <td>16.58</td>\n",
       "      <td>16.58</td>\n",
       "      <td>1.0</td>\n",
       "      <td>6.64</td>\n",
       "      <td>NaN</td>\n",
       "      <td>6.64</td>\n",
       "      <td>6.64</td>\n",
       "      <td>6.64</td>\n",
       "      <td>6.64</td>\n",
       "      <td>6.64</td>\n",
       "    </tr>\n",
       "    <tr>\n",
       "      <th>200000</th>\n",
       "      <td>1.0</td>\n",
       "      <td>16.58</td>\n",
       "      <td>NaN</td>\n",
       "      <td>16.58</td>\n",
       "      <td>16.58</td>\n",
       "      <td>16.58</td>\n",
       "      <td>16.58</td>\n",
       "      <td>16.58</td>\n",
       "      <td>1.0</td>\n",
       "      <td>6.62</td>\n",
       "      <td>NaN</td>\n",
       "      <td>6.62</td>\n",
       "      <td>6.62</td>\n",
       "      <td>6.62</td>\n",
       "      <td>6.62</td>\n",
       "      <td>6.62</td>\n",
       "    </tr>\n",
       "    <tr>\n",
       "      <th>250000</th>\n",
       "      <td>1.0</td>\n",
       "      <td>16.53</td>\n",
       "      <td>NaN</td>\n",
       "      <td>16.53</td>\n",
       "      <td>16.53</td>\n",
       "      <td>16.53</td>\n",
       "      <td>16.53</td>\n",
       "      <td>16.53</td>\n",
       "      <td>1.0</td>\n",
       "      <td>6.61</td>\n",
       "      <td>NaN</td>\n",
       "      <td>6.61</td>\n",
       "      <td>6.61</td>\n",
       "      <td>6.61</td>\n",
       "      <td>6.61</td>\n",
       "      <td>6.61</td>\n",
       "    </tr>\n",
       "  </tbody>\n",
       "</table>\n",
       "</div>"
      ],
      "text/plain": [
       "                                     Test error(px)                           \\\n",
       "                                              count   mean std    min    25%   \n",
       "Shuffle number Training iterations:                                            \n",
       "2              100000                           1.0  16.48 NaN  16.48  16.48   \n",
       "               150000                           1.0  16.58 NaN  16.58  16.58   \n",
       "               200000                           1.0  16.58 NaN  16.58  16.58   \n",
       "               250000                           1.0  16.53 NaN  16.53  16.53   \n",
       "\n",
       "                                                          \\\n",
       "                                       50%    75%    max   \n",
       "Shuffle number Training iterations:                        \n",
       "2              100000                16.48  16.48  16.48   \n",
       "               150000                16.58  16.58  16.58   \n",
       "               200000                16.58  16.58  16.58   \n",
       "               250000                16.53  16.53  16.53   \n",
       "\n",
       "                                    Test error with p-cutoff                  \\\n",
       "                                                       count  mean std   min   \n",
       "Shuffle number Training iterations:                                            \n",
       "2              100000                                    1.0  6.66 NaN  6.66   \n",
       "               150000                                    1.0  6.64 NaN  6.64   \n",
       "               200000                                    1.0  6.62 NaN  6.62   \n",
       "               250000                                    1.0  6.61 NaN  6.61   \n",
       "\n",
       "                                                             \n",
       "                                      25%   50%   75%   max  \n",
       "Shuffle number Training iterations:                          \n",
       "2              100000                6.66  6.66  6.66  6.66  \n",
       "               150000                6.64  6.64  6.64  6.64  \n",
       "               200000                6.62  6.62  6.62  6.62  \n",
       "               250000                6.61  6.61  6.61  6.61  "
      ]
     },
     "execution_count": 3,
     "metadata": {},
     "output_type": "execute_result"
    }
   ],
   "source": [
    "df.drop(df.columns[[1, 3, 5, 6]], axis=1).groupby([\"Shuffle number\", \"Training iterations:\"]).describe()"
   ]
  },
  {
   "cell_type": "code",
   "execution_count": 23,
   "metadata": {},
   "outputs": [
    {
     "data": {
      "text/plain": [
       "<matplotlib.axes._subplots.AxesSubplot at 0x7fdd5d795b50>"
      ]
     },
     "execution_count": 23,
     "metadata": {},
     "output_type": "execute_result"
    },
    {
     "data": {
      "image/png": "[encoded data removed]",
      "text/plain": [
       "<Figure size 432x288 with 1 Axes>"
      ]
     },
     "metadata": {
      "needs_background": "light"
     },
     "output_type": "display_data"
    }
   ],
   "source": [
    "sns.lineplot(data=df, x=\"Training iterations:\", y=\"Test error with p-cutoff\", hue=\"model\", style=\"model\")"
   ]
  },
  {
   "cell_type": "code",
   "execution_count": 32,
   "metadata": {},
   "outputs": [
    {
     "data": {
      "text/plain": [
       "<seaborn.axisgrid.FacetGrid at 0x7fdd5eb65110>"
      ]
     },
     "execution_count": 32,
     "metadata": {},
     "output_type": "execute_result"
    },
    {
     "data": {
      "image/png": "[encoded data removed]",
      "text/plain": [
       "<Figure size 511.234x360 with 1 Axes>"
      ]
     },
     "metadata": {
      "needs_background": "light"
     },
     "output_type": "display_data"
    }
   ],
   "source": [
    "melted_df = pd.melt(df, id_vars=['Training iterations:'], value_vars=[' Test error(px)', 'Test error with p-cutoff'],\n",
    "       var_name='Parameter', value_name='Value')\n",
    "\n",
    "sns.catplot(data=melted_df, x=\"Training iterations:\", y=\"Value\", hue=\"Parameter\", kind='bar')"
   ]
  },
  {
   "cell_type": "code",
   "execution_count": 33,
   "metadata": {},
   "outputs": [
    {
     "data": {
      "text/plain": [
       "<matplotlib.axes._subplots.AxesSubplot at 0x7fdd5ed43810>"
      ]
     },
     "execution_count": 33,
     "metadata": {},
     "output_type": "execute_result"
    },
    {
     "data": {
      "image/png": "[encoded data removed]",
      "text/plain": [
       "<Figure size 432x288 with 1 Axes>"
      ]
     },
     "metadata": {
      "needs_background": "light"
     },
     "output_type": "display_data"
    }
   ],
   "source": [
    "sns.barplot(data=df, y=\" Test error(px)\", x=\"Training iterations:\", hue=\"Training iterations:\")"
   ]
  },
  {
   "cell_type": "code",
   "execution_count": 34,
   "metadata": {},
   "outputs": [
    {
     "data": {
      "text/plain": [
       "<matplotlib.axes._subplots.AxesSubplot at 0x7fdd5ec1a550>"
      ]
     },
     "execution_count": 34,
     "metadata": {},
     "output_type": "execute_result"
    },
    {
     "data": {
      "image/png": "[encoded data removed]",
      "text/plain": [
       "<Figure size 432x288 with 1 Axes>"
      ]
     },
     "metadata": {
      "needs_background": "light"
     },
     "output_type": "display_data"
    }
   ],
   "source": [
    "sns.boxplot(data=df, x=\"Test error with p-cutoff\", y=\"model\", hue=\"Training iterations:\")"
   ]
  },
  {
   "cell_type": "code",
   "execution_count": 35,
   "metadata": {},
   "outputs": [
    {
     "data": {
      "text/plain": [
       "<seaborn.axisgrid.FacetGrid at 0x7fdd5ef1b290>"
      ]
     },
     "execution_count": 35,
     "metadata": {},
     "output_type": "execute_result"
    },
    {
     "data": {
      "image/png": "[encoded data removed]",
      "text/plain": [
       "<Figure size 1440x360 with 4 Axes>"
      ]
     },
     "metadata": {
      "needs_background": "light"
     },
     "output_type": "display_data"
    }
   ],
   "source": [
    "sns.catplot(data=df, y=\"Test error with p-cutoff\", x=\"model\", col=\"Training iterations:\", kind=\"box\")"
   ]
  },
  {
   "cell_type": "code",
   "execution_count": 36,
   "metadata": {},
   "outputs": [
    {
     "data": {
      "text/plain": [
       "<seaborn.axisgrid.FacetGrid at 0x7fdd5f45cf90>"
      ]
     },
     "execution_count": 36,
     "metadata": {},
     "output_type": "execute_result"
    },
    {
     "data": {
      "image/png": "[encoded data removed]",
      "text/plain": [
       "<Figure size 1440x360 with 4 Axes>"
      ]
     },
     "metadata": {
      "needs_background": "light"
     },
     "output_type": "display_data"
    }
   ],
   "source": [
    "sns.catplot(data=df, y=\" Test error(px)\", x=\"model\", col=\"Training iterations:\", kind=\"box\")"
   ]
  },
  {
   "cell_type": "code",
   "execution_count": null,
   "metadata": {},
   "outputs": [],
   "source": []
  },
  {
   "cell_type": "markdown",
   "metadata": {},
   "source": [
    "## Conclusion:\n",
    "\n",
    "resnet50 performs the worst\n",
    "resnet152 shuffle number 32 looks like an outlier.\n",
    "\n",
    "**the most logical thing might be to proceed with the outlier extraction with all 3 shuffles of resnet152 and resnet101 models**"
   ]
  },
  {
   "cell_type": "code",
   "execution_count": null,
   "metadata": {},
   "outputs": [],
   "source": []
  }
 ],
 "metadata": {
  "kernelspec": {
   "display_name": "Python 3",
   "language": "python",
   "name": "python3"
  },
  "language_info": {
   "codemirror_mode": {
    "name": "ipython",
    "version": 3
   },
   "file_extension": ".py",
   "mimetype": "text/x-python",
   "name": "python",
   "nbconvert_exporter": "python",
   "pygments_lexer": "ipython3",
   "version": "3.7.7"
  }
 },
 "nbformat": 4,
 "nbformat_minor": 4
}
