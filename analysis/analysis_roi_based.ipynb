{
 "cells": [
  {
   "cell_type": "code",
   "execution_count": 1,
   "metadata": {
    "collapsed": true
   },
   "outputs": [],
   "source": [
    "import os\n",
    "import numpy as np\n",
    "import pandas as pd\n",
    "import matplotlib as plt\n",
    "import seaborn as sns"
   ]
  },
  {
   "cell_type": "code",
   "execution_count": 8,
   "outputs": [
    {
     "data": {
      "text/plain": "scorer    DLC_resnet152_dlc_realApr6shuffle0_150000                         \\\nbodyparts                                  left_ear                          \ncoords                                            x           y likelihood   \n0                                        708.416565  241.749100   0.997639   \n1                                        708.437012  241.768906   0.997608   \n2                                        700.473206  240.692703   0.971015   \n3                                        693.414734  238.498993   0.989180   \n4                                        690.036865  241.215591   0.995214   \n...                                             ...         ...        ...   \n108162                                   991.708069  301.053223   0.616322   \n108163                                   991.919800  301.102081   0.608373   \n108164                                   991.702576  301.079041   0.619270   \n108165                                   991.679810  301.128723   0.621153   \n108166                                   991.801575  301.154114   0.622265   \n\nscorer                                                                 \\\nbodyparts    right_ear                              snout               \ncoords               x           y likelihood           x           y   \n0           717.113586  197.839386   0.979572  652.421509  213.780426   \n1           717.101868  197.849289   0.979234  652.391235  213.593628   \n2           708.347717  200.342392   0.877475  644.614929  213.769028   \n3           697.505676  200.058212   0.913571  642.383301  217.963242   \n4           696.696472  198.999802   0.919037  640.336792  216.406769   \n...                ...         ...        ...         ...         ...   \n108162     1005.654602  302.794342   0.221758  995.877930  292.043091   \n108163     1005.903564  302.872131   0.216917  995.911621  292.034485   \n108164     1005.668030  302.806641   0.220156  995.877136  292.033356   \n108165     1005.721863  302.856628   0.222192  995.876099  292.001160   \n108166     1005.881592  302.887421   0.226863  995.844421  292.011536   \n\nscorer                            ...                                      \\\nbodyparts                 center  ... paw_h_right  paw_h_left               \ncoords    likelihood           x  ...  likelihood           x           y   \n0           0.998246  765.623962  ...    0.075908  733.506531  284.311798   \n1           0.998435  765.669983  ...    0.076429  733.346069  284.223267   \n2           0.999283  763.075745  ...    0.082892  732.548401  285.605621   \n3           0.999191  761.159058  ...    0.270879  731.689514  285.187714   \n4           0.998089  758.055603  ...    0.458133  790.724548  329.370728   \n...              ...         ...  ...         ...         ...         ...   \n108162      0.139344  935.183716  ...    0.232346  977.125305  310.422943   \n108163      0.135274  935.590637  ...    0.187789  977.079773  310.488495   \n108164      0.139186  935.452332  ...    0.160185  977.111328  310.437042   \n108165      0.141088  936.410278  ...    0.206512  977.058411  310.411713   \n108166      0.137932  934.800537  ...    0.152164  977.050659  310.417603   \n\nscorer                                                  animal group day  \nbodyparts               tail_tip                                          \ncoords    likelihood           x           y likelihood                   \n0           0.972782  665.652710  423.618988   0.995084  chr10   chr   1  \n1           0.971818  665.585388  423.581085   0.995325  chr10   chr   1  \n2           0.923465  671.432556  437.544861   0.094592  chr10   chr   1  \n3           0.807115  668.335083  430.932739   0.852357  chr10   chr   1  \n4           0.478976  657.102478  425.311615   0.867239  chr10   chr   1  \n...              ...         ...         ...        ...    ...   ...  ..  \n108162      0.298282  838.063049  660.290771   0.542543    hr9    hr   5  \n108163      0.302637  837.817932  664.958374   0.469289    hr9    hr   5  \n108164      0.296614  833.788818  662.183044   0.363161    hr9    hr   5  \n108165      0.297401  546.470032  750.308838   0.515865    hr9    hr   5  \n108166      0.303712  835.406189  659.708862   0.111390    hr9    hr   5  \n\n[15484455 rows x 42 columns]",
      "text/html": "<div>\n<style scoped>\n    .dataframe tbody tr th:only-of-type {\n        vertical-align: middle;\n    }\n\n    .dataframe tbody tr th {\n        vertical-align: top;\n    }\n\n    .dataframe thead tr th {\n        text-align: left;\n    }\n</style>\n<table border=\"1\" class=\"dataframe\">\n  <thead>\n    <tr>\n      <th>scorer</th>\n      <th colspan=\"18\" halign=\"left\">DLC_resnet152_dlc_realApr6shuffle0_150000</th>\n      <th>animal</th>\n      <th>group</th>\n      <th>day</th>\n    </tr>\n    <tr>\n      <th>bodyparts</th>\n      <th colspan=\"3\" halign=\"left\">left_ear</th>\n      <th colspan=\"3\" halign=\"left\">right_ear</th>\n      <th colspan=\"3\" halign=\"left\">snout</th>\n      <th>center</th>\n      <th>...</th>\n      <th>paw_h_right</th>\n      <th colspan=\"3\" halign=\"left\">paw_h_left</th>\n      <th colspan=\"3\" halign=\"left\">tail_tip</th>\n      <th></th>\n      <th></th>\n      <th></th>\n    </tr>\n    <tr>\n      <th>coords</th>\n      <th>x</th>\n      <th>y</th>\n      <th>likelihood</th>\n      <th>x</th>\n      <th>y</th>\n      <th>likelihood</th>\n      <th>x</th>\n      <th>y</th>\n      <th>likelihood</th>\n      <th>x</th>\n      <th>...</th>\n      <th>likelihood</th>\n      <th>x</th>\n      <th>y</th>\n      <th>likelihood</th>\n      <th>x</th>\n      <th>y</th>\n      <th>likelihood</th>\n      <th></th>\n      <th></th>\n      <th></th>\n    </tr>\n  </thead>\n  <tbody>\n    <tr>\n      <th>0</th>\n      <td>708.416565</td>\n      <td>241.749100</td>\n      <td>0.997639</td>\n      <td>717.113586</td>\n      <td>197.839386</td>\n      <td>0.979572</td>\n      <td>652.421509</td>\n      <td>213.780426</td>\n      <td>0.998246</td>\n      <td>765.623962</td>\n      <td>...</td>\n      <td>0.075908</td>\n      <td>733.506531</td>\n      <td>284.311798</td>\n      <td>0.972782</td>\n      <td>665.652710</td>\n      <td>423.618988</td>\n      <td>0.995084</td>\n      <td>chr10</td>\n      <td>chr</td>\n      <td>1</td>\n    </tr>\n    <tr>\n      <th>1</th>\n      <td>708.437012</td>\n      <td>241.768906</td>\n      <td>0.997608</td>\n      <td>717.101868</td>\n      <td>197.849289</td>\n      <td>0.979234</td>\n      <td>652.391235</td>\n      <td>213.593628</td>\n      <td>0.998435</td>\n      <td>765.669983</td>\n      <td>...</td>\n      <td>0.076429</td>\n      <td>733.346069</td>\n      <td>284.223267</td>\n      <td>0.971818</td>\n      <td>665.585388</td>\n      <td>423.581085</td>\n      <td>0.995325</td>\n      <td>chr10</td>\n      <td>chr</td>\n      <td>1</td>\n    </tr>\n    <tr>\n      <th>2</th>\n      <td>700.473206</td>\n      <td>240.692703</td>\n      <td>0.971015</td>\n      <td>708.347717</td>\n      <td>200.342392</td>\n      <td>0.877475</td>\n      <td>644.614929</td>\n      <td>213.769028</td>\n      <td>0.999283</td>\n      <td>763.075745</td>\n      <td>...</td>\n      <td>0.082892</td>\n      <td>732.548401</td>\n      <td>285.605621</td>\n      <td>0.923465</td>\n      <td>671.432556</td>\n      <td>437.544861</td>\n      <td>0.094592</td>\n      <td>chr10</td>\n      <td>chr</td>\n      <td>1</td>\n    </tr>\n    <tr>\n      <th>3</th>\n      <td>693.414734</td>\n      <td>238.498993</td>\n      <td>0.989180</td>\n      <td>697.505676</td>\n      <td>200.058212</td>\n      <td>0.913571</td>\n      <td>642.383301</td>\n      <td>217.963242</td>\n      <td>0.999191</td>\n      <td>761.159058</td>\n      <td>...</td>\n      <td>0.270879</td>\n      <td>731.689514</td>\n      <td>285.187714</td>\n      <td>0.807115</td>\n      <td>668.335083</td>\n      <td>430.932739</td>\n      <td>0.852357</td>\n      <td>chr10</td>\n      <td>chr</td>\n      <td>1</td>\n    </tr>\n    <tr>\n      <th>4</th>\n      <td>690.036865</td>\n      <td>241.215591</td>\n      <td>0.995214</td>\n      <td>696.696472</td>\n      <td>198.999802</td>\n      <td>0.919037</td>\n      <td>640.336792</td>\n      <td>216.406769</td>\n      <td>0.998089</td>\n      <td>758.055603</td>\n      <td>...</td>\n      <td>0.458133</td>\n      <td>790.724548</td>\n      <td>329.370728</td>\n      <td>0.478976</td>\n      <td>657.102478</td>\n      <td>425.311615</td>\n      <td>0.867239</td>\n      <td>chr10</td>\n      <td>chr</td>\n      <td>1</td>\n    </tr>\n    <tr>\n      <th>...</th>\n      <td>...</td>\n      <td>...</td>\n      <td>...</td>\n      <td>...</td>\n      <td>...</td>\n      <td>...</td>\n      <td>...</td>\n      <td>...</td>\n      <td>...</td>\n      <td>...</td>\n      <td>...</td>\n      <td>...</td>\n      <td>...</td>\n      <td>...</td>\n      <td>...</td>\n      <td>...</td>\n      <td>...</td>\n      <td>...</td>\n      <td>...</td>\n      <td>...</td>\n      <td>...</td>\n    </tr>\n    <tr>\n      <th>108162</th>\n      <td>991.708069</td>\n      <td>301.053223</td>\n      <td>0.616322</td>\n      <td>1005.654602</td>\n      <td>302.794342</td>\n      <td>0.221758</td>\n      <td>995.877930</td>\n      <td>292.043091</td>\n      <td>0.139344</td>\n      <td>935.183716</td>\n      <td>...</td>\n      <td>0.232346</td>\n      <td>977.125305</td>\n      <td>310.422943</td>\n      <td>0.298282</td>\n      <td>838.063049</td>\n      <td>660.290771</td>\n      <td>0.542543</td>\n      <td>hr9</td>\n      <td>hr</td>\n      <td>5</td>\n    </tr>\n    <tr>\n      <th>108163</th>\n      <td>991.919800</td>\n      <td>301.102081</td>\n      <td>0.608373</td>\n      <td>1005.903564</td>\n      <td>302.872131</td>\n      <td>0.216917</td>\n      <td>995.911621</td>\n      <td>292.034485</td>\n      <td>0.135274</td>\n      <td>935.590637</td>\n      <td>...</td>\n      <td>0.187789</td>\n      <td>977.079773</td>\n      <td>310.488495</td>\n      <td>0.302637</td>\n      <td>837.817932</td>\n      <td>664.958374</td>\n      <td>0.469289</td>\n      <td>hr9</td>\n      <td>hr</td>\n      <td>5</td>\n    </tr>\n    <tr>\n      <th>108164</th>\n      <td>991.702576</td>\n      <td>301.079041</td>\n      <td>0.619270</td>\n      <td>1005.668030</td>\n      <td>302.806641</td>\n      <td>0.220156</td>\n      <td>995.877136</td>\n      <td>292.033356</td>\n      <td>0.139186</td>\n      <td>935.452332</td>\n      <td>...</td>\n      <td>0.160185</td>\n      <td>977.111328</td>\n      <td>310.437042</td>\n      <td>0.296614</td>\n      <td>833.788818</td>\n      <td>662.183044</td>\n      <td>0.363161</td>\n      <td>hr9</td>\n      <td>hr</td>\n      <td>5</td>\n    </tr>\n    <tr>\n      <th>108165</th>\n      <td>991.679810</td>\n      <td>301.128723</td>\n      <td>0.621153</td>\n      <td>1005.721863</td>\n      <td>302.856628</td>\n      <td>0.222192</td>\n      <td>995.876099</td>\n      <td>292.001160</td>\n      <td>0.141088</td>\n      <td>936.410278</td>\n      <td>...</td>\n      <td>0.206512</td>\n      <td>977.058411</td>\n      <td>310.411713</td>\n      <td>0.297401</td>\n      <td>546.470032</td>\n      <td>750.308838</td>\n      <td>0.515865</td>\n      <td>hr9</td>\n      <td>hr</td>\n      <td>5</td>\n    </tr>\n    <tr>\n      <th>108166</th>\n      <td>991.801575</td>\n      <td>301.154114</td>\n      <td>0.622265</td>\n      <td>1005.881592</td>\n      <td>302.887421</td>\n      <td>0.226863</td>\n      <td>995.844421</td>\n      <td>292.011536</td>\n      <td>0.137932</td>\n      <td>934.800537</td>\n      <td>...</td>\n      <td>0.152164</td>\n      <td>977.050659</td>\n      <td>310.417603</td>\n      <td>0.303712</td>\n      <td>835.406189</td>\n      <td>659.708862</td>\n      <td>0.111390</td>\n      <td>hr9</td>\n      <td>hr</td>\n      <td>5</td>\n    </tr>\n  </tbody>\n</table>\n<p>15484455 rows × 42 columns</p>\n</div>"
     },
     "execution_count": 8,
     "metadata": {},
     "output_type": "execute_result"
    }
   ],
   "source": [
    "folder = r\"J:\\Alja Podgornik\\Multimaze arena\\Cohort 1_June 2020\\all_outputs_main\"\n",
    "all_h5s = [h for h in os.listdir(folder) if h.endswith('h5')]\n",
    "\n",
    "df = pd.DataFrame()\n",
    "\n",
    "# for h5 in all_h5s:\n",
    "#     splitted_name = h5[:h5.find('DLC')].rsplit(sep='_')\n",
    "#     animal = splitted_name[0]\n",
    "#     day = int(splitted_name[1][-1])\n",
    "#     if animal.startswith('chr'):\n",
    "#         group = 'chr'\n",
    "#     elif animal.startswith('hr'):\n",
    "#         group = 'hr'\n",
    "#     elif animal.startswith('ctrl'):\n",
    "#         group = 'ctrl'\n",
    "#     h5df = pd.read_hdf(os.path.join(folder, h5))\n",
    "#     h5df['animal'] = animal\n",
    "#     h5df['group'] = group\n",
    "#     h5df['day'] = day\n",
    "#     df = df.append(h5df)\n",
    "# df"
   ],
   "metadata": {
    "collapsed": false,
    "pycharm": {
     "name": "#%%\n"
    }
   }
  }
 ],
 "metadata": {
  "kernelspec": {
   "name": "pycharm-dd0c2ef1",
   "language": "python",
   "display_name": "PyCharm (behaviour-switching)"
  },
  "language_info": {
   "codemirror_mode": {
    "name": "ipython",
    "version": 2
   },
   "file_extension": ".py",
   "mimetype": "text/x-python",
   "name": "python",
   "nbconvert_exporter": "python",
   "pygments_lexer": "ipython2",
   "version": "2.7.6"
  }
 },
 "nbformat": 4,
 "nbformat_minor": 0
}